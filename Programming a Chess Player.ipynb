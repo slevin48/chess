{
 "cells": [
  {
   "cell_type": "markdown",
   "metadata": {},
   "source": [
    "# 1. Programming a Chess Player"
   ]
  },
  {
   "cell_type": "markdown",
   "metadata": {},
   "source": [
    "CS371: Introduction to Cognitive Science  \n",
    "Bryn Mawr College  \n",
    "Department of Computer Science  \n",
    "Professor Blank, Fall 2016"
   ]
  },
  {
   "cell_type": "markdown",
   "metadata": {},
   "source": [
    "**Goals**:\n",
    "\n",
    "* explore the idea that a computer could \"think\"\n",
    "* explore symbolic computation\n",
    "* write a program to play Chess\n",
    "\n",
    "In this notebook we will begin to explore *symbolic computation* by writing a program to play Chess. Perhaps you don't know how to play Chess... no problem! You don't really need to know much, but a primer on Chess may be useful. Here are some links that might be useful:\n",
    "\n",
    "**Getting Started with Chess**:\n",
    "\n",
    "* http://www.chesscorner.com/tutorial/learn.htm\n",
    "* https://www.chesscademy.com/\n",
    "* http://learningchess.net/us/index\n",
    "* https://www.chess.com/learn-how-to-play-chess\n",
    "\n",
    "For these experiments, we will use the `python-chess` library. In this notebook, we will define three different sample players. We explore them in some depth here to attempt to understand how each plays chess.\n",
    "\n",
    "**python-chess Reference**:\n",
    "\n",
    "* https://python-chess.readthedocs.io/en/v0.15.0/core.html"
   ]
  },
  {
   "cell_type": "markdown",
   "metadata": {},
   "source": [
    "## 1.1 Game Play"
   ]
  },
  {
   "cell_type": "markdown",
   "metadata": {},
   "source": [
    "The first thing we need to do is import the chess library:"
   ]
  },
  {
   "cell_type": "code",
   "execution_count": 1,
   "metadata": {
    "collapsed": true
   },
   "outputs": [],
   "source": [
    "import chess"
   ]
  },
  {
   "cell_type": "markdown",
   "metadata": {},
   "source": [
    "We will use the chess library in the following manner:\n",
    "\n",
    "1. Create a chess.Board instance\n",
    "1. The chess.Board instance automatically generates all possible moves for the current player\n",
    "1. Current player picks a move\n",
    "1. Go to step #2 and repeat until win, lose, or draw\n",
    "\n",
    "That's it! Thus we have reduced the playing a valid game of chess into simply selecting a move at each turn. To play a good game of chess, you will want to pick \"the best move\" at each turn. \n",
    "\n",
    "A player will be a function that takes a board instance as a argument, and returns a move encoded as a string in Universal Chess Interface format:\n",
    "\n",
    "```python\n",
    "def player(board):\n",
    "    ### \"Thinking\" happens here\n",
    "    return move_code\n",
    "```"
   ]
  },
  {
   "cell_type": "markdown",
   "metadata": {},
   "source": [
    "We'll explain this fully below."
   ]
  },
  {
   "cell_type": "markdown",
   "metadata": {},
   "source": [
    "## 1.2 The Board class"
   ]
  },
  {
   "cell_type": "markdown",
   "metadata": {},
   "source": [
    "The Board class keeps track of whose turn it is, possible moves, and a history of all past moves. This class can undo and redo moves, and keeps track of repeating states. \n",
    "\n",
    "First, we create a board instance:"
   ]
  },
  {
   "cell_type": "code",
   "execution_count": 2,
   "metadata": {
    "collapsed": false
   },
   "outputs": [],
   "source": [
    "board = chess.Board()"
   ]
  },
  {
   "cell_type": "markdown",
   "metadata": {},
   "source": [
    "The `board.turn` value is a boolean indicating whose turn it is. The values are either True for white or False for black."
   ]
  },
  {
   "cell_type": "code",
   "execution_count": 3,
   "metadata": {
    "collapsed": false
   },
   "outputs": [
    {
     "data": {
      "text/plain": [
       "True"
      ]
     },
     "execution_count": 3,
     "metadata": {},
     "output_type": "execute_result"
    }
   ],
   "source": [
    "board.turn"
   ]
  },
  {
   "cell_type": "markdown",
   "metadata": {},
   "source": [
    "As seen above, the game always begins with white's turn. If you forget which is True, you can ask the chess module:"
   ]
  },
  {
   "cell_type": "code",
   "execution_count": 4,
   "metadata": {
    "collapsed": false
   },
   "outputs": [
    {
     "data": {
      "text/plain": [
       "True"
      ]
     },
     "execution_count": 4,
     "metadata": {},
     "output_type": "execute_result"
    }
   ],
   "source": [
    "board.turn == chess.WHITE"
   ]
  },
  {
   "cell_type": "markdown",
   "metadata": {},
   "source": [
    "The chess.Board class is responsible for generating all possible moves, whose turn it is, keeping track of the placement of all pieces, and making each move. The chess.Board represents a two-dimensional 8 x 8 array. However, the internal representation is optimized for speedy operations.\n",
    "\n",
    "Here is a visual representation of a chess.Board:"
   ]
  },
  {
   "cell_type": "code",
   "execution_count": 5,
   "metadata": {
    "collapsed": false
   },
   "outputs": [
    {
     "data": {
      "image/svg+xml": [
       "<svg xmlns=\"http://www.w3.org/2000/svg\" version=\"1.1\" width=\"400\" height=\"400\"><style>.square.light {\n",
       "  fill: #ffce9e;\n",
       "}\n",
       ".square.dark {\n",
       "  fill: #d18b47;\n",
       "}\n",
       "</style><defs><g id=\"black-king\" class=\"black king\" fill=\"none\" fill-rule=\"evenodd\" stroke=\"#000\" stroke-width=\"1.5\" stroke-linecap=\"round\" stroke-linejoin=\"round\"><path d=\"M22.5 11.63V6\" stroke-linejoin=\"miter\"/><path d=\"M22.5 25s4.5-7.5 3-10.5c0 0-1-2.5-3-2.5s-3 2.5-3 2.5c-1.5 3 3 10.5 3 10.5\" fill=\"#000\" stroke-linecap=\"butt\" stroke-linejoin=\"miter\"/><path d=\"M11.5 37c5.5 3.5 15.5 3.5 21 0v-7s9-4.5 6-10.5c-4-6.5-13.5-3.5-16 4V27v-3.5c-3.5-7.5-13-10.5-16-4-3 6 5 10 5 10V37z\" fill=\"#000\"/><path d=\"M20 8h5\" stroke-linejoin=\"miter\"/><path d=\"M32 29.5s8.5-4 6.03-9.65C34.15 14 25 18 22.5 24.5l.01 2.1-.01-2.1C20 18 9.906 14 6.997 19.85c-2.497 5.65 4.853 9 4.853 9M11.5 30c5.5-3 15.5-3 21 0m-21 3.5c5.5-3 15.5-3 21 0m-21 3.5c5.5-3 15.5-3 21 0\" stroke=\"#fff\"/></g><g id=\"black-rook\" class=\"black rook\" fill=\"0\" fill-rule=\"evenodd\" stroke=\"#000\" stroke-width=\"1.5\" stroke-linecap=\"round\" stroke-linejoin=\"round\"><path d=\"M9 39h27v-3H9v3zM12.5 32l1.5-2.5h17l1.5 2.5h-20zM12 36v-4h21v4H12z\" stroke-linecap=\"butt\"/><path d=\"M14 29.5v-13h17v13H14z\" stroke-linecap=\"butt\" stroke-linejoin=\"miter\"/><path d=\"M14 16.5L11 14h23l-3 2.5H14zM11 14V9h4v2h5V9h5v2h5V9h4v5H11z\" stroke-linecap=\"butt\"/><path d=\"M12 35.5h21M13 31.5h19M14 29.5h17M14 16.5h17M11 14h23\" fill=\"none\" stroke=\"#fff\" stroke-width=\"1\" stroke-linejoin=\"miter\"/></g><g id=\"black-knight\" class=\"black knight\" fill=\"none\" fill-rule=\"evenodd\" stroke=\"#000\" stroke-width=\"1.5\" stroke-linecap=\"round\" stroke-linejoin=\"round\"><path d=\"M22 10c10.5 1 16.5 8 16 29H15c0-9 10-6.5 8-21M24 18c.38 2.91-5.55 7.37-8 9-3 2-2.82 4.34-5 4-1.042-.94 1.41-3.04 0-3-1 0 .19 1.23-1 2-1 0-4.003 1-4-4 0-2 6-12 6-12s1.89-1.9 2-3.5c-.73-.994-.5-2-.5-3 1-1 3 2.5 3 2.5h2s.78-1.992 2.5-3c1 0 1 3 1 3\" fill=\"#000\"/><path d=\"M9.5 25.5a.5.5 0 1 1-1 0 .5.5 0 1 1 1 0zM14.933 15.75a.5 1.5 30 1 1-.866-.5.5 1.5 30 1 1 .866.5z\" fill=\"#fff\" stroke=\"#fff\"/><path d=\"M24.55 10.4l-.45 1.45.5.15c3.15 1 5.65 2.49 7.9 6.75S35.75 29.06 35.25 39l-.05.5h2.25l.05-.5c.5-10.06-.88-16.85-3.25-21.34-2.37-4.49-5.79-6.64-9.19-7.16l-.51-.1z\" fill=\"#fff\" stroke=\"none\"/></g><g id=\"white-king\" class=\"white king\" fill=\"none\" fill-rule=\"evenodd\" stroke=\"#000\" stroke-width=\"1.5\" stroke-linecap=\"round\" stroke-linejoin=\"round\"><path d=\"M22.5 11.63V6M20 8h5\" stroke-linejoin=\"miter\"/><path d=\"M22.5 25s4.5-7.5 3-10.5c0 0-1-2.5-3-2.5s-3 2.5-3 2.5c-1.5 3 3 10.5 3 10.5\" fill=\"#fff\" stroke-linecap=\"butt\" stroke-linejoin=\"miter\"/><path d=\"M11.5 37c5.5 3.5 15.5 3.5 21 0v-7s9-4.5 6-10.5c-4-6.5-13.5-3.5-16 4V27v-3.5c-3.5-7.5-13-10.5-16-4-3 6 5 10 5 10V37z\" fill=\"#fff\"/><path d=\"M11.5 30c5.5-3 15.5-3 21 0m-21 3.5c5.5-3 15.5-3 21 0m-21 3.5c5.5-3 15.5-3 21 0\"/></g><g id=\"white-knight\" class=\"white knight\" fill=\"none\" fill-rule=\"evenodd\" stroke=\"#000\" stroke-width=\"1.5\" stroke-linecap=\"round\" stroke-linejoin=\"round\"><path d=\"M22 10c10.5 1 16.5 8 16 29H15c0-9 10-6.5 8-21M24 18c.38 2.91-5.55 7.37-8 9-3 2-2.82 4.34-5 4-1.042-.94 1.41-3.04 0-3-1 0 .19 1.23-1 2-1 0-4.003 1-4-4 0-2 6-12 6-12s1.89-1.9 2-3.5c-.73-.994-.5-2-.5-3 1-1 3 2.5 3 2.5h2s.78-1.992 2.5-3c1 0 1 3 1 3\" fill=\"#fff\"/><path d=\"M9.5 25.5a.5.5 0 1 1-1 0 .5.5 0 1 1 1 0zM14.933 15.75a.5 1.5 30 1 1-.866-.5.5 1.5 30 1 1 .866.5z\" fill=\"#000\"/></g><g id=\"black-bishop\" class=\"black bishop\" fill=\"none\" fill-rule=\"evenodd\" stroke=\"#000\" stroke-width=\"1.5\" stroke-linecap=\"round\" stroke-linejoin=\"round\"><path d=\"M9 36c3.39-.97 10.11.43 13.5-2 3.39 2.43 10.11 1.03 13.5 2 0 0 1.65.54 3 2-.68.97-1.65.99-3 .5-3.39-.97-10.11.46-13.5-1-3.39 1.46-10.11.03-13.5 1-1.354.49-2.323.47-3-.5 1.354-1.94 3-2 3-2zm6-4c2.5 2.5 12.5 2.5 15 0 .5-1.5 0-2 0-2 0-2.5-2.5-4-2.5-4 5.5-1.5 6-11.5-5-15.5-11 4-10.5 14-5 15.5 0 0-2.5 1.5-2.5 4 0 0-.5.5 0 2zM25 8a2.5 2.5 0 1 1-5 0 2.5 2.5 0 1 1 5 0z\" fill=\"#000\" stroke-linecap=\"butt\"/><path d=\"M17.5 26h10M15 30h15m-7.5-14.5v5M20 18h5\" stroke=\"#fff\" stroke-linejoin=\"miter\"/></g><g id=\"black-pawn\" class=\"black pawn\"><path d=\"M22 9c-2.21 0-4 1.79-4 4 0 .89.29 1.71.78 2.38-1.95 1.12-3.28 3.21-3.28 5.62 0 2.03.94 3.84 2.41 5.03-3 1.06-7.41 5.55-7.41 13.47h23c0-7.92-4.41-12.41-7.41-13.47 1.47-1.19 2.41-3 2.41-5.03 0-2.41-1.33-4.5-3.28-5.62.49-.67.78-1.49.78-2.38 0-2.21-1.79-4-4-4z\" stroke=\"#000\" stroke-width=\"1.5\" stroke-linecap=\"round\"/></g><g id=\"white-queen\" class=\"white queen\" fill=\"#fff\" fill-rule=\"evenodd\" stroke=\"#000\" stroke-width=\"1.5\" stroke-linecap=\"round\" stroke-linejoin=\"round\"><path d=\"M8 12a2 2 0 1 1-4 0 2 2 0 1 1 4 0zM24.5 7.5a2 2 0 1 1-4 0 2 2 0 1 1 4 0zM41 12a2 2 0 1 1-4 0 2 2 0 1 1 4 0zM16 8.5a2 2 0 1 1-4 0 2 2 0 1 1 4 0zM33 9a2 2 0 1 1-4 0 2 2 0 1 1 4 0z\"/><path d=\"M9 26c8.5-1.5 21-1.5 27 0l2-12-7 11V11l-5.5 13.5-3-15-3 15-5.5-14V25L7 14l2 12zM9 26c0 2 1.5 2 2.5 4 1 1.5 1 1 .5 3.5-1.5 1-1.5 2.5-1.5 2.5-1.5 1.5.5 2.5.5 2.5 6.5 1 16.5 1 23 0 0 0 1.5-1 0-2.5 0 0 .5-1.5-1-2.5-.5-2.5-.5-2 .5-3.5 1-2 2.5-2 2.5-4-8.5-1.5-18.5-1.5-27 0z\" stroke-linecap=\"butt\"/><path d=\"M11.5 30c3.5-1 18.5-1 22 0M12 33.5c6-1 15-1 21 0\" fill=\"none\"/></g><g id=\"white-rook\" class=\"white rook\" fill=\"#fff\" fill-rule=\"evenodd\" stroke=\"#000\" stroke-width=\"1.5\" stroke-linecap=\"round\" stroke-linejoin=\"round\"><path d=\"M9 39h27v-3H9v3zM12 36v-4h21v4H12zM11 14V9h4v2h5V9h5v2h5V9h4v5\" stroke-linecap=\"butt\"/><path d=\"M34 14l-3 3H14l-3-3\"/><path d=\"M31 17v12.5H14V17\" stroke-linecap=\"butt\" stroke-linejoin=\"miter\"/><path d=\"M31 29.5l1.5 2.5h-20l1.5-2.5\"/><path d=\"M11 14h23\" fill=\"none\" stroke-linejoin=\"miter\"/></g><g id=\"white-pawn\" class=\"white pawn\"><path d=\"M22 9c-2.21 0-4 1.79-4 4 0 .89.29 1.71.78 2.38-1.95 1.12-3.28 3.21-3.28 5.62 0 2.03.94 3.84 2.41 5.03-3 1.06-7.41 5.55-7.41 13.47h23c0-7.92-4.41-12.41-7.41-13.47 1.47-1.19 2.41-3 2.41-5.03 0-2.41-1.33-4.5-3.28-5.62.49-.67.78-1.49.78-2.38 0-2.21-1.79-4-4-4z\" fill=\"#fff\" stroke=\"#000\" stroke-width=\"1.5\" stroke-linecap=\"round\"/></g><g id=\"white-bishop\" class=\"white bishop\" fill=\"none\" fill-rule=\"evenodd\" stroke=\"#000\" stroke-width=\"1.5\" stroke-linecap=\"round\" stroke-linejoin=\"round\"><g fill=\"#fff\" stroke-linecap=\"butt\"><path d=\"M9 36c3.39-.97 10.11.43 13.5-2 3.39 2.43 10.11 1.03 13.5 2 0 0 1.65.54 3 2-.68.97-1.65.99-3 .5-3.39-.97-10.11.46-13.5-1-3.39 1.46-10.11.03-13.5 1-1.354.49-2.323.47-3-.5 1.354-1.94 3-2 3-2zM15 32c2.5 2.5 12.5 2.5 15 0 .5-1.5 0-2 0-2 0-2.5-2.5-4-2.5-4 5.5-1.5 6-11.5-5-15.5-11 4-10.5 14-5 15.5 0 0-2.5 1.5-2.5 4 0 0-.5.5 0 2zM25 8a2.5 2.5 0 1 1-5 0 2.5 2.5 0 1 1 5 0z\"/></g><path d=\"M17.5 26h10M15 30h15m-7.5-14.5v5M20 18h5\" stroke-linejoin=\"miter\"/></g><g id=\"black-queen\" class=\"black-queen\" fill=\"0\" fill-rule=\"evenodd\" stroke=\"#000\" stroke-width=\"1.5\" stroke-linecap=\"round\" stroke-linejoin=\"round\"><g fill=\"#000\" stroke=\"none\"><circle cx=\"6\" cy=\"12\" r=\"2.75\"/><circle cx=\"14\" cy=\"9\" r=\"2.75\"/><circle cx=\"22.5\" cy=\"8\" r=\"2.75\"/><circle cx=\"31\" cy=\"9\" r=\"2.75\"/><circle cx=\"39\" cy=\"12\" r=\"2.75\"/></g><path d=\"M9 26c8.5-1.5 21-1.5 27 0l2.5-12.5L31 25l-.3-14.1-5.2 13.6-3-14.5-3 14.5-5.2-13.6L14 25 6.5 13.5 9 26zM9 26c0 2 1.5 2 2.5 4 1 1.5 1 1 .5 3.5-1.5 1-1.5 2.5-1.5 2.5-1.5 1.5.5 2.5.5 2.5 6.5 1 16.5 1 23 0 0 0 1.5-1 0-2.5 0 0 .5-1.5-1-2.5-.5-2.5-.5-2 .5-3.5 1-2 2.5-2 2.5-4-8.5-1.5-18.5-1.5-27 0z\" stroke-linecap=\"butt\"/><path d=\"M11 38.5a35 35 1 0 0 23 0\" fill=\"none\" stroke-linecap=\"butt\"/><path d=\"M11 29a35 35 1 0 1 23 0M12.5 31.5h20M11.5 34.5a35 35 1 0 0 22 0M10.5 37.5a35 35 1 0 0 24 0\" fill=\"none\" stroke=\"#fff\"/></g></defs><rect x=\"20\" y=\"335\" class=\"square dark a1\" width=\"45\" height=\"45\" style=\"stroke: none;\" /><use xlink:href=\"#white-rook\" x=\"20\" y=\"335\" /><rect x=\"65\" y=\"335\" class=\"square light b1\" width=\"45\" height=\"45\" style=\"stroke: none;\" /><use xlink:href=\"#white-knight\" x=\"65\" y=\"335\" /><rect x=\"110\" y=\"335\" class=\"square dark c1\" width=\"45\" height=\"45\" style=\"stroke: none;\" /><use xlink:href=\"#white-bishop\" x=\"110\" y=\"335\" /><rect x=\"155\" y=\"335\" class=\"square light d1\" width=\"45\" height=\"45\" style=\"stroke: none;\" /><use xlink:href=\"#white-queen\" x=\"155\" y=\"335\" /><rect x=\"200\" y=\"335\" class=\"square dark e1\" width=\"45\" height=\"45\" style=\"stroke: none;\" /><use xlink:href=\"#white-king\" x=\"200\" y=\"335\" /><rect x=\"245\" y=\"335\" class=\"square light f1\" width=\"45\" height=\"45\" style=\"stroke: none;\" /><use xlink:href=\"#white-bishop\" x=\"245\" y=\"335\" /><rect x=\"290\" y=\"335\" class=\"square dark g1\" width=\"45\" height=\"45\" style=\"stroke: none;\" /><use xlink:href=\"#white-knight\" x=\"290\" y=\"335\" /><rect x=\"335\" y=\"335\" class=\"square light h1\" width=\"45\" height=\"45\" style=\"stroke: none;\" /><use xlink:href=\"#white-rook\" x=\"335\" y=\"335\" /><rect x=\"20\" y=\"290\" class=\"square light a2\" width=\"45\" height=\"45\" style=\"stroke: none;\" /><use xlink:href=\"#white-pawn\" x=\"20\" y=\"290\" /><rect x=\"65\" y=\"290\" class=\"square dark b2\" width=\"45\" height=\"45\" style=\"stroke: none;\" /><use xlink:href=\"#white-pawn\" x=\"65\" y=\"290\" /><rect x=\"110\" y=\"290\" class=\"square light c2\" width=\"45\" height=\"45\" style=\"stroke: none;\" /><use xlink:href=\"#white-pawn\" x=\"110\" y=\"290\" /><rect x=\"155\" y=\"290\" class=\"square dark d2\" width=\"45\" height=\"45\" style=\"stroke: none;\" /><use xlink:href=\"#white-pawn\" x=\"155\" y=\"290\" /><rect x=\"200\" y=\"290\" class=\"square light e2\" width=\"45\" height=\"45\" style=\"stroke: none;\" /><use xlink:href=\"#white-pawn\" x=\"200\" y=\"290\" /><rect x=\"245\" y=\"290\" class=\"square dark f2\" width=\"45\" height=\"45\" style=\"stroke: none;\" /><use xlink:href=\"#white-pawn\" x=\"245\" y=\"290\" /><rect x=\"290\" y=\"290\" class=\"square light g2\" width=\"45\" height=\"45\" style=\"stroke: none;\" /><use xlink:href=\"#white-pawn\" x=\"290\" y=\"290\" /><rect x=\"335\" y=\"290\" class=\"square dark h2\" width=\"45\" height=\"45\" style=\"stroke: none;\" /><use xlink:href=\"#white-pawn\" x=\"335\" y=\"290\" /><rect x=\"20\" y=\"245\" class=\"square dark a3\" width=\"45\" height=\"45\" style=\"stroke: none;\" /><rect x=\"65\" y=\"245\" class=\"square light b3\" width=\"45\" height=\"45\" style=\"stroke: none;\" /><rect x=\"110\" y=\"245\" class=\"square dark c3\" width=\"45\" height=\"45\" style=\"stroke: none;\" /><rect x=\"155\" y=\"245\" class=\"square light d3\" width=\"45\" height=\"45\" style=\"stroke: none;\" /><rect x=\"200\" y=\"245\" class=\"square dark e3\" width=\"45\" height=\"45\" style=\"stroke: none;\" /><rect x=\"245\" y=\"245\" class=\"square light f3\" width=\"45\" height=\"45\" style=\"stroke: none;\" /><rect x=\"290\" y=\"245\" class=\"square dark g3\" width=\"45\" height=\"45\" style=\"stroke: none;\" /><rect x=\"335\" y=\"245\" class=\"square light h3\" width=\"45\" height=\"45\" style=\"stroke: none;\" /><rect x=\"20\" y=\"200\" class=\"square light a4\" width=\"45\" height=\"45\" style=\"stroke: none;\" /><rect x=\"65\" y=\"200\" class=\"square dark b4\" width=\"45\" height=\"45\" style=\"stroke: none;\" /><rect x=\"110\" y=\"200\" class=\"square light c4\" width=\"45\" height=\"45\" style=\"stroke: none;\" /><rect x=\"155\" y=\"200\" class=\"square dark d4\" width=\"45\" height=\"45\" style=\"stroke: none;\" /><rect x=\"200\" y=\"200\" class=\"square light e4\" width=\"45\" height=\"45\" style=\"stroke: none;\" /><rect x=\"245\" y=\"200\" class=\"square dark f4\" width=\"45\" height=\"45\" style=\"stroke: none;\" /><rect x=\"290\" y=\"200\" class=\"square light g4\" width=\"45\" height=\"45\" style=\"stroke: none;\" /><rect x=\"335\" y=\"200\" class=\"square dark h4\" width=\"45\" height=\"45\" style=\"stroke: none;\" /><rect x=\"20\" y=\"155\" class=\"square dark a5\" width=\"45\" height=\"45\" style=\"stroke: none;\" /><rect x=\"65\" y=\"155\" class=\"square light b5\" width=\"45\" height=\"45\" style=\"stroke: none;\" /><rect x=\"110\" y=\"155\" class=\"square dark c5\" width=\"45\" height=\"45\" style=\"stroke: none;\" /><rect x=\"155\" y=\"155\" class=\"square light d5\" width=\"45\" height=\"45\" style=\"stroke: none;\" /><rect x=\"200\" y=\"155\" class=\"square dark e5\" width=\"45\" height=\"45\" style=\"stroke: none;\" /><rect x=\"245\" y=\"155\" class=\"square light f5\" width=\"45\" height=\"45\" style=\"stroke: none;\" /><rect x=\"290\" y=\"155\" class=\"square dark g5\" width=\"45\" height=\"45\" style=\"stroke: none;\" /><rect x=\"335\" y=\"155\" class=\"square light h5\" width=\"45\" height=\"45\" style=\"stroke: none;\" /><rect x=\"20\" y=\"110\" class=\"square light a6\" width=\"45\" height=\"45\" style=\"stroke: none;\" /><rect x=\"65\" y=\"110\" class=\"square dark b6\" width=\"45\" height=\"45\" style=\"stroke: none;\" /><rect x=\"110\" y=\"110\" class=\"square light c6\" width=\"45\" height=\"45\" style=\"stroke: none;\" /><rect x=\"155\" y=\"110\" class=\"square dark d6\" width=\"45\" height=\"45\" style=\"stroke: none;\" /><rect x=\"200\" y=\"110\" class=\"square light e6\" width=\"45\" height=\"45\" style=\"stroke: none;\" /><rect x=\"245\" y=\"110\" class=\"square dark f6\" width=\"45\" height=\"45\" style=\"stroke: none;\" /><rect x=\"290\" y=\"110\" class=\"square light g6\" width=\"45\" height=\"45\" style=\"stroke: none;\" /><rect x=\"335\" y=\"110\" class=\"square dark h6\" width=\"45\" height=\"45\" style=\"stroke: none;\" /><rect x=\"20\" y=\"65\" class=\"square dark a7\" width=\"45\" height=\"45\" style=\"stroke: none;\" /><use xlink:href=\"#black-pawn\" x=\"20\" y=\"65\" /><rect x=\"65\" y=\"65\" class=\"square light b7\" width=\"45\" height=\"45\" style=\"stroke: none;\" /><use xlink:href=\"#black-pawn\" x=\"65\" y=\"65\" /><rect x=\"110\" y=\"65\" class=\"square dark c7\" width=\"45\" height=\"45\" style=\"stroke: none;\" /><use xlink:href=\"#black-pawn\" x=\"110\" y=\"65\" /><rect x=\"155\" y=\"65\" class=\"square light d7\" width=\"45\" height=\"45\" style=\"stroke: none;\" /><use xlink:href=\"#black-pawn\" x=\"155\" y=\"65\" /><rect x=\"200\" y=\"65\" class=\"square dark e7\" width=\"45\" height=\"45\" style=\"stroke: none;\" /><use xlink:href=\"#black-pawn\" x=\"200\" y=\"65\" /><rect x=\"245\" y=\"65\" class=\"square light f7\" width=\"45\" height=\"45\" style=\"stroke: none;\" /><use xlink:href=\"#black-pawn\" x=\"245\" y=\"65\" /><rect x=\"290\" y=\"65\" class=\"square dark g7\" width=\"45\" height=\"45\" style=\"stroke: none;\" /><use xlink:href=\"#black-pawn\" x=\"290\" y=\"65\" /><rect x=\"335\" y=\"65\" class=\"square light h7\" width=\"45\" height=\"45\" style=\"stroke: none;\" /><use xlink:href=\"#black-pawn\" x=\"335\" y=\"65\" /><rect x=\"20\" y=\"20\" class=\"square light a8\" width=\"45\" height=\"45\" style=\"stroke: none;\" /><use xlink:href=\"#black-rook\" x=\"20\" y=\"20\" /><rect x=\"65\" y=\"20\" class=\"square dark b8\" width=\"45\" height=\"45\" style=\"stroke: none;\" /><use xlink:href=\"#black-knight\" x=\"65\" y=\"20\" /><rect x=\"110\" y=\"20\" class=\"square light c8\" width=\"45\" height=\"45\" style=\"stroke: none;\" /><use xlink:href=\"#black-bishop\" x=\"110\" y=\"20\" /><rect x=\"155\" y=\"20\" class=\"square dark d8\" width=\"45\" height=\"45\" style=\"stroke: none;\" /><use xlink:href=\"#black-queen\" x=\"155\" y=\"20\" /><rect x=\"200\" y=\"20\" class=\"square light e8\" width=\"45\" height=\"45\" style=\"stroke: none;\" /><use xlink:href=\"#black-king\" x=\"200\" y=\"20\" /><rect x=\"245\" y=\"20\" class=\"square dark f8\" width=\"45\" height=\"45\" style=\"stroke: none;\" /><use xlink:href=\"#black-bishop\" x=\"245\" y=\"20\" /><rect x=\"290\" y=\"20\" class=\"square light g8\" width=\"45\" height=\"45\" style=\"stroke: none;\" /><use xlink:href=\"#black-knight\" x=\"290\" y=\"20\" /><rect x=\"335\" y=\"20\" class=\"square dark h8\" width=\"45\" height=\"45\" style=\"stroke: none;\" /><use xlink:href=\"#black-rook\" x=\"335\" y=\"20\" /><text x=\"42\" y=\"10\" text-anchor=\"middle\" alignment-baseline=\"middle\" font-size=\"14\">a</text><text x=\"42\" y=\"390\" text-anchor=\"middle\" alignment-baseline=\"middle\" font-size=\"14\">a</text><text x=\"87\" y=\"10\" text-anchor=\"middle\" alignment-baseline=\"middle\" font-size=\"14\">b</text><text x=\"87\" y=\"390\" text-anchor=\"middle\" alignment-baseline=\"middle\" font-size=\"14\">b</text><text x=\"132\" y=\"10\" text-anchor=\"middle\" alignment-baseline=\"middle\" font-size=\"14\">c</text><text x=\"132\" y=\"390\" text-anchor=\"middle\" alignment-baseline=\"middle\" font-size=\"14\">c</text><text x=\"177\" y=\"10\" text-anchor=\"middle\" alignment-baseline=\"middle\" font-size=\"14\">d</text><text x=\"177\" y=\"390\" text-anchor=\"middle\" alignment-baseline=\"middle\" font-size=\"14\">d</text><text x=\"222\" y=\"10\" text-anchor=\"middle\" alignment-baseline=\"middle\" font-size=\"14\">e</text><text x=\"222\" y=\"390\" text-anchor=\"middle\" alignment-baseline=\"middle\" font-size=\"14\">e</text><text x=\"267\" y=\"10\" text-anchor=\"middle\" alignment-baseline=\"middle\" font-size=\"14\">f</text><text x=\"267\" y=\"390\" text-anchor=\"middle\" alignment-baseline=\"middle\" font-size=\"14\">f</text><text x=\"312\" y=\"10\" text-anchor=\"middle\" alignment-baseline=\"middle\" font-size=\"14\">g</text><text x=\"312\" y=\"390\" text-anchor=\"middle\" alignment-baseline=\"middle\" font-size=\"14\">g</text><text x=\"357\" y=\"10\" text-anchor=\"middle\" alignment-baseline=\"middle\" font-size=\"14\">h</text><text x=\"357\" y=\"390\" text-anchor=\"middle\" alignment-baseline=\"middle\" font-size=\"14\">h</text><text x=\"10\" y=\"357\" text-anchor=\"middle\" alignment-baseline=\"middle\" font-size=\"14\">1</text><text x=\"390\" y=\"357\" text-anchor=\"middle\" alignment-baseline=\"middle\" font-size=\"14\">1</text><text x=\"10\" y=\"312\" text-anchor=\"middle\" alignment-baseline=\"middle\" font-size=\"14\">2</text><text x=\"390\" y=\"312\" text-anchor=\"middle\" alignment-baseline=\"middle\" font-size=\"14\">2</text><text x=\"10\" y=\"267\" text-anchor=\"middle\" alignment-baseline=\"middle\" font-size=\"14\">3</text><text x=\"390\" y=\"267\" text-anchor=\"middle\" alignment-baseline=\"middle\" font-size=\"14\">3</text><text x=\"10\" y=\"222\" text-anchor=\"middle\" alignment-baseline=\"middle\" font-size=\"14\">4</text><text x=\"390\" y=\"222\" text-anchor=\"middle\" alignment-baseline=\"middle\" font-size=\"14\">4</text><text x=\"10\" y=\"177\" text-anchor=\"middle\" alignment-baseline=\"middle\" font-size=\"14\">5</text><text x=\"390\" y=\"177\" text-anchor=\"middle\" alignment-baseline=\"middle\" font-size=\"14\">5</text><text x=\"10\" y=\"132\" text-anchor=\"middle\" alignment-baseline=\"middle\" font-size=\"14\">6</text><text x=\"390\" y=\"132\" text-anchor=\"middle\" alignment-baseline=\"middle\" font-size=\"14\">6</text><text x=\"10\" y=\"87\" text-anchor=\"middle\" alignment-baseline=\"middle\" font-size=\"14\">7</text><text x=\"390\" y=\"87\" text-anchor=\"middle\" alignment-baseline=\"middle\" font-size=\"14\">7</text><text x=\"10\" y=\"42\" text-anchor=\"middle\" alignment-baseline=\"middle\" font-size=\"14\">8</text><text x=\"390\" y=\"42\" text-anchor=\"middle\" alignment-baseline=\"middle\" font-size=\"14\">8</text></svg>"
      ],
      "text/plain": [
       "Board('rnbqkbnr/pppppppp/8/8/8/8/PPPPPPPP/RNBQKBNR w KQkq - 0 1')"
      ]
     },
     "execution_count": 5,
     "metadata": {},
     "output_type": "execute_result"
    }
   ],
   "source": [
    "board"
   ]
  },
  {
   "cell_type": "markdown",
   "metadata": {},
   "source": [
    "You can also get an ASCII board representation (text-only) by converting the board into a string:"
   ]
  },
  {
   "cell_type": "code",
   "execution_count": 6,
   "metadata": {
    "collapsed": false
   },
   "outputs": [
    {
     "name": "stdout",
     "output_type": "stream",
     "text": [
      "r n b q k b n r\n",
      "p p p p p p p p\n",
      ". . . . . . . .\n",
      ". . . . . . . .\n",
      ". . . . . . . .\n",
      ". . . . . . . .\n",
      "P P P P P P P P\n",
      "R N B Q K B N R\n"
     ]
    }
   ],
   "source": [
    "print(str(board))"
   ]
  },
  {
   "cell_type": "markdown",
   "metadata": {},
   "source": [
    "The string representation of the board shows the character representation for each piece. Specifically:\n",
    "\n",
    "Piece | White |  Black\n",
    "------|-------|--------\n",
    "Pawn   | P | p\n",
    "Rook   | R | r\n",
    "Knight | N | n\n",
    "Bishop | B | b\n",
    "Queen  | Q | q\n",
    "King   | K | k\n",
    " "
   ]
  },
  {
   "cell_type": "markdown",
   "metadata": {},
   "source": [
    "For our uses, you don't really need to know how each piece moves. We discuss game strategy, though, shortly.\n",
    "\n",
    "The 2-dimensional board is laid out so that each position is indicated by a column letter and row number. However, the internal representation is sequential. Say that we wanted to see what was at location 'c1' we could use:"
   ]
  },
  {
   "cell_type": "code",
   "execution_count": 7,
   "metadata": {
    "collapsed": false
   },
   "outputs": [
    {
     "data": {
      "text/plain": [
       "2"
      ]
     },
     "execution_count": 7,
     "metadata": {},
     "output_type": "execute_result"
    }
   ],
   "source": [
    "chess.C1"
   ]
  },
  {
   "cell_type": "markdown",
   "metadata": {},
   "source": [
    "to get the internal location of the column/row, and then use:"
   ]
  },
  {
   "cell_type": "code",
   "execution_count": 8,
   "metadata": {
    "collapsed": false
   },
   "outputs": [
    {
     "data": {
      "image/svg+xml": [
       "<svg xmlns=\"http://www.w3.org/2000/svg\" version=\"1.1\" width=\"45\" height=\"45\"><g id=\"white-bishop\" class=\"white bishop\" fill=\"none\" fill-rule=\"evenodd\" stroke=\"#000\" stroke-width=\"1.5\" stroke-linecap=\"round\" stroke-linejoin=\"round\"><g fill=\"#fff\" stroke-linecap=\"butt\"><path d=\"M9 36c3.39-.97 10.11.43 13.5-2 3.39 2.43 10.11 1.03 13.5 2 0 0 1.65.54 3 2-.68.97-1.65.99-3 .5-3.39-.97-10.11.46-13.5-1-3.39 1.46-10.11.03-13.5 1-1.354.49-2.323.47-3-.5 1.354-1.94 3-2 3-2zM15 32c2.5 2.5 12.5 2.5 15 0 .5-1.5 0-2 0-2 0-2.5-2.5-4-2.5-4 5.5-1.5 6-11.5-5-15.5-11 4-10.5 14-5 15.5 0 0-2.5 1.5-2.5 4 0 0-.5.5 0 2zM25 8a2.5 2.5 0 1 1-5 0 2.5 2.5 0 1 1 5 0z\"/></g><path d=\"M17.5 26h10M15 30h15m-7.5-14.5v5M20 18h5\" stroke-linejoin=\"miter\"/></g></svg>"
      ],
      "text/plain": [
       "Piece.from_symbol('B')"
      ]
     },
     "execution_count": 8,
     "metadata": {},
     "output_type": "execute_result"
    }
   ],
   "source": [
    "board.piece_at(chess.C1)"
   ]
  },
  {
   "cell_type": "markdown",
   "metadata": {},
   "source": [
    "Or shown as a character:"
   ]
  },
  {
   "cell_type": "code",
   "execution_count": 9,
   "metadata": {
    "collapsed": false
   },
   "outputs": [
    {
     "data": {
      "text/plain": [
       "'B'"
      ]
     },
     "execution_count": 9,
     "metadata": {},
     "output_type": "execute_result"
    }
   ],
   "source": [
    "str(board.piece_at(chess.C1))"
   ]
  },
  {
   "cell_type": "markdown",
   "metadata": {},
   "source": [
    "Indeed, there is a white bishop at 'c1'."
   ]
  },
  {
   "cell_type": "markdown",
   "metadata": {},
   "source": [
    "## 1.3 Making Moves"
   ]
  },
  {
   "cell_type": "markdown",
   "metadata": {},
   "source": [
    "At this point, we can as the board instance to generate all of the possible, legal moves:"
   ]
  },
  {
   "cell_type": "code",
   "execution_count": 10,
   "metadata": {
    "collapsed": false
   },
   "outputs": [
    {
     "data": {
      "text/plain": [
       "[Move.from_uci('b1a3'),\n",
       " Move.from_uci('b1c3'),\n",
       " Move.from_uci('g1f3'),\n",
       " Move.from_uci('g1h3'),\n",
       " Move.from_uci('a2a3'),\n",
       " Move.from_uci('b2b3'),\n",
       " Move.from_uci('c2c3'),\n",
       " Move.from_uci('d2d3'),\n",
       " Move.from_uci('e2e3'),\n",
       " Move.from_uci('f2f3'),\n",
       " Move.from_uci('g2g3'),\n",
       " Move.from_uci('h2h3'),\n",
       " Move.from_uci('a2a4'),\n",
       " Move.from_uci('b2b4'),\n",
       " Move.from_uci('c2c4'),\n",
       " Move.from_uci('d2d4'),\n",
       " Move.from_uci('e2e4'),\n",
       " Move.from_uci('f2f4'),\n",
       " Move.from_uci('g2g4'),\n",
       " Move.from_uci('h2h4')]"
      ]
     },
     "execution_count": 10,
     "metadata": {},
     "output_type": "execute_result"
    }
   ],
   "source": [
    "list(board.legal_moves)"
   ]
  },
  {
   "cell_type": "markdown",
   "metadata": {},
   "source": [
    "**Python Note**: `board.legal_moves` looks like a normal list of items. But it is really a property that gets lazily generated on the fly. We force it to be a list by wrapping `list()` around it.\n",
    "\n",
    "We can get the first move (index zero):"
   ]
  },
  {
   "cell_type": "code",
   "execution_count": 11,
   "metadata": {
    "collapsed": false
   },
   "outputs": [],
   "source": [
    "move = list(board.legal_moves)[0]"
   ]
  },
  {
   "cell_type": "markdown",
   "metadata": {},
   "source": [
    "### 1.3.1 Universal Chess Interface"
   ]
  },
  {
   "cell_type": "markdown",
   "metadata": {},
   "source": [
    "The Universal Chess Interface (or uci) is a representation for describing a move from one cell to another (and perhaps additional information as well). We explore the first move:"
   ]
  },
  {
   "cell_type": "code",
   "execution_count": 12,
   "metadata": {
    "collapsed": false
   },
   "outputs": [
    {
     "data": {
      "text/plain": [
       "Move.from_uci('b1a3')"
      ]
     },
     "execution_count": 12,
     "metadata": {},
     "output_type": "execute_result"
    }
   ],
   "source": [
    "move"
   ]
  },
  {
   "cell_type": "code",
   "execution_count": 13,
   "metadata": {
    "collapsed": false
   },
   "outputs": [
    {
     "data": {
      "text/plain": [
       "'b1a3'"
      ]
     },
     "execution_count": 13,
     "metadata": {},
     "output_type": "execute_result"
    }
   ],
   "source": [
    "move.uci()"
   ]
  },
  {
   "cell_type": "markdown",
   "metadata": {},
   "source": [
    "Thus, this is a move from b1 to a3. \n",
    "\n",
    "What piece is this, and where is it moving on the board? Is this a good move?\n",
    "\n",
    "The uci string is what each player function will return."
   ]
  },
  {
   "cell_type": "markdown",
   "metadata": {},
   "source": [
    "### 1.3.2 Standard Algebraic Notation"
   ]
  },
  {
   "cell_type": "markdown",
   "metadata": {},
   "source": [
    "If you know something about Chess, you might know about Standard Algebraic Notation (or san). This is an alternative to uci. You can get a move's san with:"
   ]
  },
  {
   "cell_type": "code",
   "execution_count": 14,
   "metadata": {
    "collapsed": false
   },
   "outputs": [
    {
     "data": {
      "text/plain": [
       "'Na3'"
      ]
     },
     "execution_count": 14,
     "metadata": {},
     "output_type": "execute_result"
    }
   ],
   "source": [
    "board.san(move)"
   ]
  },
  {
   "cell_type": "markdown",
   "metadata": {},
   "source": [
    "However, we will always use uci."
   ]
  },
  {
   "cell_type": "markdown",
   "metadata": {},
   "source": [
    "## 1.4 Programming a Random Player"
   ]
  },
  {
   "cell_type": "markdown",
   "metadata": {},
   "source": [
    "There is a useful function in the random module that will select from a a list of choices. This is called `random.choice`."
   ]
  },
  {
   "cell_type": "code",
   "execution_count": 15,
   "metadata": {
    "collapsed": true
   },
   "outputs": [],
   "source": [
    "import random"
   ]
  },
  {
   "cell_type": "markdown",
   "metadata": {},
   "source": [
    "To use it in a function, we simply:"
   ]
  },
  {
   "cell_type": "code",
   "execution_count": 16,
   "metadata": {
    "collapsed": false
   },
   "outputs": [],
   "source": [
    "def random_player(board):\n",
    "    move = random.choice(list(board.legal_moves))\n",
    "    return move.uci()"
   ]
  },
  {
   "cell_type": "code",
   "execution_count": 17,
   "metadata": {
    "collapsed": false
   },
   "outputs": [
    {
     "data": {
      "text/plain": [
       "'h2h4'"
      ]
     },
     "execution_count": 17,
     "metadata": {},
     "output_type": "execute_result"
    }
   ],
   "source": [
    "random_player(board)"
   ]
  },
  {
   "cell_type": "code",
   "execution_count": 18,
   "metadata": {
    "collapsed": false
   },
   "outputs": [
    {
     "name": "stdout",
     "output_type": "stream",
     "text": [
      "h2h3\n",
      "a2a4\n",
      "g1h3\n",
      "b2b3\n",
      "b2b3\n",
      "e2e4\n",
      "g1f3\n",
      "d2d4\n",
      "c2c4\n",
      "g1f3\n"
     ]
    }
   ],
   "source": [
    "for i in range(10):\n",
    "    print(random_player(board))"
   ]
  },
  {
   "cell_type": "markdown",
   "metadata": {},
   "source": [
    "## 1.5 Playing a Game"
   ]
  },
  {
   "cell_type": "markdown",
   "metadata": {},
   "source": [
    "To play a game, we'll write a new function called `play_game` that will take two player functions, create a board, and alternatively call the player functions until a win, lose, or draw.\n",
    "\n",
    "First, we need some additional modules for displaying a game in the notebook:"
   ]
  },
  {
   "cell_type": "code",
   "execution_count": 19,
   "metadata": {
    "collapsed": false
   },
   "outputs": [],
   "source": [
    "import time\n",
    "from IPython.display import display, HTML, clear_output"
   ]
  },
  {
   "cell_type": "markdown",
   "metadata": {},
   "source": [
    "A useful function for displaying the color of a player:"
   ]
  },
  {
   "cell_type": "code",
   "execution_count": 20,
   "metadata": {
    "collapsed": true
   },
   "outputs": [],
   "source": [
    "def who(player):\n",
    "    return \"White\" if player == chess.WHITE else \"Black\""
   ]
  },
  {
   "cell_type": "markdown",
   "metadata": {},
   "source": [
    "A function for displaying the board as text, or as the nice image (called SVG):"
   ]
  },
  {
   "cell_type": "code",
   "execution_count": 21,
   "metadata": {
    "collapsed": true
   },
   "outputs": [],
   "source": [
    "def display_board(board, use_svg):\n",
    "    if use_svg:\n",
    "        return board._repr_svg_()\n",
    "    else:\n",
    "        return \"<pre>\" + str(board) + \"</pre>\"\n",
    "    "
   ]
  },
  {
   "cell_type": "markdown",
   "metadata": {},
   "source": [
    "And finally, we can put those together to play a game:"
   ]
  },
  {
   "cell_type": "code",
   "execution_count": 22,
   "metadata": {
    "collapsed": false
   },
   "outputs": [],
   "source": [
    "def play_game(player1, player2, visual=\"svg\", pause=0.1):\n",
    "    \"\"\"\n",
    "    playerN1, player2: functions that takes board, return uci move\n",
    "    visual: \"simple\" | \"svg\" | None\n",
    "    \"\"\"\n",
    "    use_svg = (visual == \"svg\")\n",
    "    board = chess.Board()\n",
    "    try:\n",
    "        while not board.is_game_over(claim_draw=True):\n",
    "            if board.turn == chess.WHITE:\n",
    "                uci = player1(board)\n",
    "            else:\n",
    "                uci = player2(board)\n",
    "            name = who(board.turn)\n",
    "            board.push_uci(uci)\n",
    "            board_stop = display_board(board, use_svg)\n",
    "            html = \"<b>Move %s %s, Play '%s':</b><br/>%s\" % (\n",
    "                       len(board.move_stack), name, uci, board_stop)\n",
    "            if visual is not None:\n",
    "                if visual == \"svg\":\n",
    "                    clear_output(wait=True)\n",
    "                display(HTML(html))\n",
    "                if visual == \"svg\":\n",
    "                    time.sleep(pause)\n",
    "    except KeyboardInterrupt:\n",
    "        msg = \"Game interrupted!\"\n",
    "        return (None, msg, board)\n",
    "    result = None\n",
    "    if board.is_checkmate():\n",
    "        msg = \"checkmate: \" + who(not board.turn) + \" wins!\"\n",
    "        result = not board.turn\n",
    "    elif board.is_stalemate():\n",
    "        msg = \"draw: stalemate\"\n",
    "    elif board.is_fivefold_repetition():\n",
    "        msg = \"draw: 5-fold repetition\"\n",
    "    elif board.is_insufficient_material():\n",
    "        msg = \"draw: insufficient material\"\n",
    "    elif board.can_claim_draw():\n",
    "        msg = \"draw: claim\"\n",
    "    if visual is not None:\n",
    "        print(msg)\n",
    "    return (result, msg, board)"
   ]
  },
  {
   "cell_type": "markdown",
   "metadata": {},
   "source": [
    "The function takes to player functions (first white, then black), and an optional argument to indicate representation style.\n",
    "\n",
    "Let's pit random_player vs. random_player:"
   ]
  },
  {
   "cell_type": "code",
   "execution_count": 23,
   "metadata": {
    "collapsed": false
   },
   "outputs": [
    {
     "data": {
      "text/html": [
       "<b>Move 282 Black, Play 'g8h8':</b><br/><svg xmlns=\"http://www.w3.org/2000/svg\" version=\"1.1\" width=\"400\" height=\"400\"><style>.square.light {\n",
       "  fill: #ffce9e;\n",
       "}\n",
       ".square.dark {\n",
       "  fill: #d18b47;\n",
       "}\n",
       "</style><defs><g id=\"black-king\" class=\"black king\" fill=\"none\" fill-rule=\"evenodd\" stroke=\"#000\" stroke-width=\"1.5\" stroke-linecap=\"round\" stroke-linejoin=\"round\"><path d=\"M22.5 11.63V6\" stroke-linejoin=\"miter\"/><path d=\"M22.5 25s4.5-7.5 3-10.5c0 0-1-2.5-3-2.5s-3 2.5-3 2.5c-1.5 3 3 10.5 3 10.5\" fill=\"#000\" stroke-linecap=\"butt\" stroke-linejoin=\"miter\"/><path d=\"M11.5 37c5.5 3.5 15.5 3.5 21 0v-7s9-4.5 6-10.5c-4-6.5-13.5-3.5-16 4V27v-3.5c-3.5-7.5-13-10.5-16-4-3 6 5 10 5 10V37z\" fill=\"#000\"/><path d=\"M20 8h5\" stroke-linejoin=\"miter\"/><path d=\"M32 29.5s8.5-4 6.03-9.65C34.15 14 25 18 22.5 24.5l.01 2.1-.01-2.1C20 18 9.906 14 6.997 19.85c-2.497 5.65 4.853 9 4.853 9M11.5 30c5.5-3 15.5-3 21 0m-21 3.5c5.5-3 15.5-3 21 0m-21 3.5c5.5-3 15.5-3 21 0\" stroke=\"#fff\"/></g><g id=\"black-rook\" class=\"black rook\" fill=\"0\" fill-rule=\"evenodd\" stroke=\"#000\" stroke-width=\"1.5\" stroke-linecap=\"round\" stroke-linejoin=\"round\"><path d=\"M9 39h27v-3H9v3zM12.5 32l1.5-2.5h17l1.5 2.5h-20zM12 36v-4h21v4H12z\" stroke-linecap=\"butt\"/><path d=\"M14 29.5v-13h17v13H14z\" stroke-linecap=\"butt\" stroke-linejoin=\"miter\"/><path d=\"M14 16.5L11 14h23l-3 2.5H14zM11 14V9h4v2h5V9h5v2h5V9h4v5H11z\" stroke-linecap=\"butt\"/><path d=\"M12 35.5h21M13 31.5h19M14 29.5h17M14 16.5h17M11 14h23\" fill=\"none\" stroke=\"#fff\" stroke-width=\"1\" stroke-linejoin=\"miter\"/></g><g id=\"black-knight\" class=\"black knight\" fill=\"none\" fill-rule=\"evenodd\" stroke=\"#000\" stroke-width=\"1.5\" stroke-linecap=\"round\" stroke-linejoin=\"round\"><path d=\"M22 10c10.5 1 16.5 8 16 29H15c0-9 10-6.5 8-21M24 18c.38 2.91-5.55 7.37-8 9-3 2-2.82 4.34-5 4-1.042-.94 1.41-3.04 0-3-1 0 .19 1.23-1 2-1 0-4.003 1-4-4 0-2 6-12 6-12s1.89-1.9 2-3.5c-.73-.994-.5-2-.5-3 1-1 3 2.5 3 2.5h2s.78-1.992 2.5-3c1 0 1 3 1 3\" fill=\"#000\"/><path d=\"M9.5 25.5a.5.5 0 1 1-1 0 .5.5 0 1 1 1 0zM14.933 15.75a.5 1.5 30 1 1-.866-.5.5 1.5 30 1 1 .866.5z\" fill=\"#fff\" stroke=\"#fff\"/><path d=\"M24.55 10.4l-.45 1.45.5.15c3.15 1 5.65 2.49 7.9 6.75S35.75 29.06 35.25 39l-.05.5h2.25l.05-.5c.5-10.06-.88-16.85-3.25-21.34-2.37-4.49-5.79-6.64-9.19-7.16l-.51-.1z\" fill=\"#fff\" stroke=\"none\"/></g><g id=\"white-king\" class=\"white king\" fill=\"none\" fill-rule=\"evenodd\" stroke=\"#000\" stroke-width=\"1.5\" stroke-linecap=\"round\" stroke-linejoin=\"round\"><path d=\"M22.5 11.63V6M20 8h5\" stroke-linejoin=\"miter\"/><path d=\"M22.5 25s4.5-7.5 3-10.5c0 0-1-2.5-3-2.5s-3 2.5-3 2.5c-1.5 3 3 10.5 3 10.5\" fill=\"#fff\" stroke-linecap=\"butt\" stroke-linejoin=\"miter\"/><path d=\"M11.5 37c5.5 3.5 15.5 3.5 21 0v-7s9-4.5 6-10.5c-4-6.5-13.5-3.5-16 4V27v-3.5c-3.5-7.5-13-10.5-16-4-3 6 5 10 5 10V37z\" fill=\"#fff\"/><path d=\"M11.5 30c5.5-3 15.5-3 21 0m-21 3.5c5.5-3 15.5-3 21 0m-21 3.5c5.5-3 15.5-3 21 0\"/></g><g id=\"white-knight\" class=\"white knight\" fill=\"none\" fill-rule=\"evenodd\" stroke=\"#000\" stroke-width=\"1.5\" stroke-linecap=\"round\" stroke-linejoin=\"round\"><path d=\"M22 10c10.5 1 16.5 8 16 29H15c0-9 10-6.5 8-21M24 18c.38 2.91-5.55 7.37-8 9-3 2-2.82 4.34-5 4-1.042-.94 1.41-3.04 0-3-1 0 .19 1.23-1 2-1 0-4.003 1-4-4 0-2 6-12 6-12s1.89-1.9 2-3.5c-.73-.994-.5-2-.5-3 1-1 3 2.5 3 2.5h2s.78-1.992 2.5-3c1 0 1 3 1 3\" fill=\"#fff\"/><path d=\"M9.5 25.5a.5.5 0 1 1-1 0 .5.5 0 1 1 1 0zM14.933 15.75a.5 1.5 30 1 1-.866-.5.5 1.5 30 1 1 .866.5z\" fill=\"#000\"/></g><g id=\"black-bishop\" class=\"black bishop\" fill=\"none\" fill-rule=\"evenodd\" stroke=\"#000\" stroke-width=\"1.5\" stroke-linecap=\"round\" stroke-linejoin=\"round\"><path d=\"M9 36c3.39-.97 10.11.43 13.5-2 3.39 2.43 10.11 1.03 13.5 2 0 0 1.65.54 3 2-.68.97-1.65.99-3 .5-3.39-.97-10.11.46-13.5-1-3.39 1.46-10.11.03-13.5 1-1.354.49-2.323.47-3-.5 1.354-1.94 3-2 3-2zm6-4c2.5 2.5 12.5 2.5 15 0 .5-1.5 0-2 0-2 0-2.5-2.5-4-2.5-4 5.5-1.5 6-11.5-5-15.5-11 4-10.5 14-5 15.5 0 0-2.5 1.5-2.5 4 0 0-.5.5 0 2zM25 8a2.5 2.5 0 1 1-5 0 2.5 2.5 0 1 1 5 0z\" fill=\"#000\" stroke-linecap=\"butt\"/><path d=\"M17.5 26h10M15 30h15m-7.5-14.5v5M20 18h5\" stroke=\"#fff\" stroke-linejoin=\"miter\"/></g><g id=\"black-pawn\" class=\"black pawn\"><path d=\"M22 9c-2.21 0-4 1.79-4 4 0 .89.29 1.71.78 2.38-1.95 1.12-3.28 3.21-3.28 5.62 0 2.03.94 3.84 2.41 5.03-3 1.06-7.41 5.55-7.41 13.47h23c0-7.92-4.41-12.41-7.41-13.47 1.47-1.19 2.41-3 2.41-5.03 0-2.41-1.33-4.5-3.28-5.62.49-.67.78-1.49.78-2.38 0-2.21-1.79-4-4-4z\" stroke=\"#000\" stroke-width=\"1.5\" stroke-linecap=\"round\"/></g><g id=\"white-queen\" class=\"white queen\" fill=\"#fff\" fill-rule=\"evenodd\" stroke=\"#000\" stroke-width=\"1.5\" stroke-linecap=\"round\" stroke-linejoin=\"round\"><path d=\"M8 12a2 2 0 1 1-4 0 2 2 0 1 1 4 0zM24.5 7.5a2 2 0 1 1-4 0 2 2 0 1 1 4 0zM41 12a2 2 0 1 1-4 0 2 2 0 1 1 4 0zM16 8.5a2 2 0 1 1-4 0 2 2 0 1 1 4 0zM33 9a2 2 0 1 1-4 0 2 2 0 1 1 4 0z\"/><path d=\"M9 26c8.5-1.5 21-1.5 27 0l2-12-7 11V11l-5.5 13.5-3-15-3 15-5.5-14V25L7 14l2 12zM9 26c0 2 1.5 2 2.5 4 1 1.5 1 1 .5 3.5-1.5 1-1.5 2.5-1.5 2.5-1.5 1.5.5 2.5.5 2.5 6.5 1 16.5 1 23 0 0 0 1.5-1 0-2.5 0 0 .5-1.5-1-2.5-.5-2.5-.5-2 .5-3.5 1-2 2.5-2 2.5-4-8.5-1.5-18.5-1.5-27 0z\" stroke-linecap=\"butt\"/><path d=\"M11.5 30c3.5-1 18.5-1 22 0M12 33.5c6-1 15-1 21 0\" fill=\"none\"/></g><g id=\"white-rook\" class=\"white rook\" fill=\"#fff\" fill-rule=\"evenodd\" stroke=\"#000\" stroke-width=\"1.5\" stroke-linecap=\"round\" stroke-linejoin=\"round\"><path d=\"M9 39h27v-3H9v3zM12 36v-4h21v4H12zM11 14V9h4v2h5V9h5v2h5V9h4v5\" stroke-linecap=\"butt\"/><path d=\"M34 14l-3 3H14l-3-3\"/><path d=\"M31 17v12.5H14V17\" stroke-linecap=\"butt\" stroke-linejoin=\"miter\"/><path d=\"M31 29.5l1.5 2.5h-20l1.5-2.5\"/><path d=\"M11 14h23\" fill=\"none\" stroke-linejoin=\"miter\"/></g><g id=\"white-pawn\" class=\"white pawn\"><path d=\"M22 9c-2.21 0-4 1.79-4 4 0 .89.29 1.71.78 2.38-1.95 1.12-3.28 3.21-3.28 5.62 0 2.03.94 3.84 2.41 5.03-3 1.06-7.41 5.55-7.41 13.47h23c0-7.92-4.41-12.41-7.41-13.47 1.47-1.19 2.41-3 2.41-5.03 0-2.41-1.33-4.5-3.28-5.62.49-.67.78-1.49.78-2.38 0-2.21-1.79-4-4-4z\" fill=\"#fff\" stroke=\"#000\" stroke-width=\"1.5\" stroke-linecap=\"round\"/></g><g id=\"white-bishop\" class=\"white bishop\" fill=\"none\" fill-rule=\"evenodd\" stroke=\"#000\" stroke-width=\"1.5\" stroke-linecap=\"round\" stroke-linejoin=\"round\"><g fill=\"#fff\" stroke-linecap=\"butt\"><path d=\"M9 36c3.39-.97 10.11.43 13.5-2 3.39 2.43 10.11 1.03 13.5 2 0 0 1.65.54 3 2-.68.97-1.65.99-3 .5-3.39-.97-10.11.46-13.5-1-3.39 1.46-10.11.03-13.5 1-1.354.49-2.323.47-3-.5 1.354-1.94 3-2 3-2zM15 32c2.5 2.5 12.5 2.5 15 0 .5-1.5 0-2 0-2 0-2.5-2.5-4-2.5-4 5.5-1.5 6-11.5-5-15.5-11 4-10.5 14-5 15.5 0 0-2.5 1.5-2.5 4 0 0-.5.5 0 2zM25 8a2.5 2.5 0 1 1-5 0 2.5 2.5 0 1 1 5 0z\"/></g><path d=\"M17.5 26h10M15 30h15m-7.5-14.5v5M20 18h5\" stroke-linejoin=\"miter\"/></g><g id=\"black-queen\" class=\"black-queen\" fill=\"0\" fill-rule=\"evenodd\" stroke=\"#000\" stroke-width=\"1.5\" stroke-linecap=\"round\" stroke-linejoin=\"round\"><g fill=\"#000\" stroke=\"none\"><circle cx=\"6\" cy=\"12\" r=\"2.75\"/><circle cx=\"14\" cy=\"9\" r=\"2.75\"/><circle cx=\"22.5\" cy=\"8\" r=\"2.75\"/><circle cx=\"31\" cy=\"9\" r=\"2.75\"/><circle cx=\"39\" cy=\"12\" r=\"2.75\"/></g><path d=\"M9 26c8.5-1.5 21-1.5 27 0l2.5-12.5L31 25l-.3-14.1-5.2 13.6-3-14.5-3 14.5-5.2-13.6L14 25 6.5 13.5 9 26zM9 26c0 2 1.5 2 2.5 4 1 1.5 1 1 .5 3.5-1.5 1-1.5 2.5-1.5 2.5-1.5 1.5.5 2.5.5 2.5 6.5 1 16.5 1 23 0 0 0 1.5-1 0-2.5 0 0 .5-1.5-1-2.5-.5-2.5-.5-2 .5-3.5 1-2 2.5-2 2.5-4-8.5-1.5-18.5-1.5-27 0z\" stroke-linecap=\"butt\"/><path d=\"M11 38.5a35 35 1 0 0 23 0\" fill=\"none\" stroke-linecap=\"butt\"/><path d=\"M11 29a35 35 1 0 1 23 0M12.5 31.5h20M11.5 34.5a35 35 1 0 0 22 0M10.5 37.5a35 35 1 0 0 24 0\" fill=\"none\" stroke=\"#fff\"/></g></defs><rect x=\"20\" y=\"335\" class=\"square dark a1\" width=\"45\" height=\"45\" style=\"stroke: none;\" /><rect x=\"65\" y=\"335\" class=\"square light b1\" width=\"45\" height=\"45\" style=\"stroke: none;\" /><rect x=\"110\" y=\"335\" class=\"square dark c1\" width=\"45\" height=\"45\" style=\"stroke: none;\" /><rect x=\"155\" y=\"335\" class=\"square light d1\" width=\"45\" height=\"45\" style=\"stroke: none;\" /><rect x=\"200\" y=\"335\" class=\"square dark e1\" width=\"45\" height=\"45\" style=\"stroke: none;\" /><rect x=\"245\" y=\"335\" class=\"square light f1\" width=\"45\" height=\"45\" style=\"stroke: none;\" /><rect x=\"290\" y=\"335\" class=\"square dark g1\" width=\"45\" height=\"45\" style=\"stroke: none;\" /><rect x=\"335\" y=\"335\" class=\"square light h1\" width=\"45\" height=\"45\" style=\"stroke: none;\" /><rect x=\"20\" y=\"290\" class=\"square light a2\" width=\"45\" height=\"45\" style=\"stroke: none;\" /><rect x=\"65\" y=\"290\" class=\"square dark b2\" width=\"45\" height=\"45\" style=\"stroke: none;\" /><rect x=\"110\" y=\"290\" class=\"square light c2\" width=\"45\" height=\"45\" style=\"stroke: none;\" /><use xlink:href=\"#white-rook\" x=\"110\" y=\"290\" /><rect x=\"155\" y=\"290\" class=\"square dark d2\" width=\"45\" height=\"45\" style=\"stroke: none;\" /><rect x=\"200\" y=\"290\" class=\"square light e2\" width=\"45\" height=\"45\" style=\"stroke: none;\" /><rect x=\"245\" y=\"290\" class=\"square dark f2\" width=\"45\" height=\"45\" style=\"stroke: none;\" /><rect x=\"290\" y=\"290\" class=\"square light g2\" width=\"45\" height=\"45\" style=\"stroke: none;\" /><rect x=\"335\" y=\"290\" class=\"square dark h2\" width=\"45\" height=\"45\" style=\"stroke: none;\" /><rect x=\"20\" y=\"245\" class=\"square dark a3\" width=\"45\" height=\"45\" style=\"stroke: none;\" /><rect x=\"65\" y=\"245\" class=\"square light b3\" width=\"45\" height=\"45\" style=\"stroke: none;\" /><rect x=\"110\" y=\"245\" class=\"square dark c3\" width=\"45\" height=\"45\" style=\"stroke: none;\" /><rect x=\"155\" y=\"245\" class=\"square light d3\" width=\"45\" height=\"45\" style=\"stroke: none;\" /><rect x=\"200\" y=\"245\" class=\"square dark e3\" width=\"45\" height=\"45\" style=\"stroke: none;\" /><rect x=\"245\" y=\"245\" class=\"square light f3\" width=\"45\" height=\"45\" style=\"stroke: none;\" /><rect x=\"290\" y=\"245\" class=\"square dark g3\" width=\"45\" height=\"45\" style=\"stroke: none;\" /><rect x=\"335\" y=\"245\" class=\"square light h3\" width=\"45\" height=\"45\" style=\"stroke: none;\" /><rect x=\"20\" y=\"200\" class=\"square light a4\" width=\"45\" height=\"45\" style=\"stroke: none;\" /><rect x=\"65\" y=\"200\" class=\"square dark b4\" width=\"45\" height=\"45\" style=\"stroke: none;\" /><rect x=\"110\" y=\"200\" class=\"square light c4\" width=\"45\" height=\"45\" style=\"stroke: none;\" /><rect x=\"155\" y=\"200\" class=\"square dark d4\" width=\"45\" height=\"45\" style=\"stroke: none;\" /><rect x=\"200\" y=\"200\" class=\"square light e4\" width=\"45\" height=\"45\" style=\"stroke: none;\" /><rect x=\"245\" y=\"200\" class=\"square dark f4\" width=\"45\" height=\"45\" style=\"stroke: none;\" /><rect x=\"290\" y=\"200\" class=\"square light g4\" width=\"45\" height=\"45\" style=\"stroke: none;\" /><rect x=\"335\" y=\"200\" class=\"square dark h4\" width=\"45\" height=\"45\" style=\"stroke: none;\" /><rect x=\"20\" y=\"155\" class=\"square dark a5\" width=\"45\" height=\"45\" style=\"stroke: none;\" /><rect x=\"65\" y=\"155\" class=\"square light b5\" width=\"45\" height=\"45\" style=\"stroke: none;\" /><use xlink:href=\"#white-king\" x=\"65\" y=\"155\" /><rect x=\"110\" y=\"155\" class=\"square dark c5\" width=\"45\" height=\"45\" style=\"stroke: none;\" /><rect x=\"155\" y=\"155\" class=\"square light d5\" width=\"45\" height=\"45\" style=\"stroke: none;\" /><rect x=\"200\" y=\"155\" class=\"square dark e5\" width=\"45\" height=\"45\" style=\"stroke: none;\" /><rect x=\"245\" y=\"155\" class=\"square light f5\" width=\"45\" height=\"45\" style=\"stroke: none;\" /><rect x=\"290\" y=\"155\" class=\"square dark g5\" width=\"45\" height=\"45\" style=\"stroke: none;\" /><rect x=\"335\" y=\"155\" class=\"square light h5\" width=\"45\" height=\"45\" style=\"stroke: none;\" /><rect x=\"20\" y=\"110\" class=\"square light a6\" width=\"45\" height=\"45\" style=\"stroke: none;\" /><rect x=\"65\" y=\"110\" class=\"square dark b6\" width=\"45\" height=\"45\" style=\"stroke: none;\" /><rect x=\"110\" y=\"110\" class=\"square light c6\" width=\"45\" height=\"45\" style=\"stroke: none;\" /><rect x=\"155\" y=\"110\" class=\"square dark d6\" width=\"45\" height=\"45\" style=\"stroke: none;\" /><rect x=\"200\" y=\"110\" class=\"square light e6\" width=\"45\" height=\"45\" style=\"stroke: none;\" /><rect x=\"245\" y=\"110\" class=\"square dark f6\" width=\"45\" height=\"45\" style=\"stroke: none;\" /><rect x=\"290\" y=\"110\" class=\"square light g6\" width=\"45\" height=\"45\" style=\"stroke: none;\" /><rect x=\"335\" y=\"110\" class=\"square dark h6\" width=\"45\" height=\"45\" style=\"stroke: none;\" /><rect x=\"20\" y=\"65\" class=\"square dark a7\" width=\"45\" height=\"45\" style=\"stroke: none;\" /><rect x=\"65\" y=\"65\" class=\"square light b7\" width=\"45\" height=\"45\" style=\"stroke: none;\" /><rect x=\"110\" y=\"65\" class=\"square dark c7\" width=\"45\" height=\"45\" style=\"stroke: none;\" /><rect x=\"155\" y=\"65\" class=\"square light d7\" width=\"45\" height=\"45\" style=\"stroke: none;\" /><rect x=\"200\" y=\"65\" class=\"square dark e7\" width=\"45\" height=\"45\" style=\"stroke: none;\" /><rect x=\"245\" y=\"65\" class=\"square light f7\" width=\"45\" height=\"45\" style=\"stroke: none;\" /><rect x=\"290\" y=\"65\" class=\"square dark g7\" width=\"45\" height=\"45\" style=\"stroke: none;\" /><rect x=\"335\" y=\"65\" class=\"square light h7\" width=\"45\" height=\"45\" style=\"stroke: none;\" /><rect x=\"20\" y=\"20\" class=\"square light a8\" width=\"45\" height=\"45\" style=\"stroke: none;\" /><rect x=\"65\" y=\"20\" class=\"square dark b8\" width=\"45\" height=\"45\" style=\"stroke: none;\" /><rect x=\"110\" y=\"20\" class=\"square light c8\" width=\"45\" height=\"45\" style=\"stroke: none;\" /><rect x=\"155\" y=\"20\" class=\"square dark d8\" width=\"45\" height=\"45\" style=\"stroke: none;\" /><rect x=\"200\" y=\"20\" class=\"square light e8\" width=\"45\" height=\"45\" style=\"stroke: none;\" /><rect x=\"245\" y=\"20\" class=\"square dark f8\" width=\"45\" height=\"45\" style=\"stroke: none;\" /><rect x=\"290\" y=\"20\" class=\"square light g8\" width=\"45\" height=\"45\" style=\"stroke: none;\" /><rect x=\"335\" y=\"20\" class=\"square dark h8\" width=\"45\" height=\"45\" style=\"stroke: none;\" /><use xlink:href=\"#black-king\" x=\"335\" y=\"20\" /><text x=\"42\" y=\"10\" text-anchor=\"middle\" alignment-baseline=\"middle\" font-size=\"14\">a</text><text x=\"42\" y=\"390\" text-anchor=\"middle\" alignment-baseline=\"middle\" font-size=\"14\">a</text><text x=\"87\" y=\"10\" text-anchor=\"middle\" alignment-baseline=\"middle\" font-size=\"14\">b</text><text x=\"87\" y=\"390\" text-anchor=\"middle\" alignment-baseline=\"middle\" font-size=\"14\">b</text><text x=\"132\" y=\"10\" text-anchor=\"middle\" alignment-baseline=\"middle\" font-size=\"14\">c</text><text x=\"132\" y=\"390\" text-anchor=\"middle\" alignment-baseline=\"middle\" font-size=\"14\">c</text><text x=\"177\" y=\"10\" text-anchor=\"middle\" alignment-baseline=\"middle\" font-size=\"14\">d</text><text x=\"177\" y=\"390\" text-anchor=\"middle\" alignment-baseline=\"middle\" font-size=\"14\">d</text><text x=\"222\" y=\"10\" text-anchor=\"middle\" alignment-baseline=\"middle\" font-size=\"14\">e</text><text x=\"222\" y=\"390\" text-anchor=\"middle\" alignment-baseline=\"middle\" font-size=\"14\">e</text><text x=\"267\" y=\"10\" text-anchor=\"middle\" alignment-baseline=\"middle\" font-size=\"14\">f</text><text x=\"267\" y=\"390\" text-anchor=\"middle\" alignment-baseline=\"middle\" font-size=\"14\">f</text><text x=\"312\" y=\"10\" text-anchor=\"middle\" alignment-baseline=\"middle\" font-size=\"14\">g</text><text x=\"312\" y=\"390\" text-anchor=\"middle\" alignment-baseline=\"middle\" font-size=\"14\">g</text><text x=\"357\" y=\"10\" text-anchor=\"middle\" alignment-baseline=\"middle\" font-size=\"14\">h</text><text x=\"357\" y=\"390\" text-anchor=\"middle\" alignment-baseline=\"middle\" font-size=\"14\">h</text><text x=\"10\" y=\"357\" text-anchor=\"middle\" alignment-baseline=\"middle\" font-size=\"14\">1</text><text x=\"390\" y=\"357\" text-anchor=\"middle\" alignment-baseline=\"middle\" font-size=\"14\">1</text><text x=\"10\" y=\"312\" text-anchor=\"middle\" alignment-baseline=\"middle\" font-size=\"14\">2</text><text x=\"390\" y=\"312\" text-anchor=\"middle\" alignment-baseline=\"middle\" font-size=\"14\">2</text><text x=\"10\" y=\"267\" text-anchor=\"middle\" alignment-baseline=\"middle\" font-size=\"14\">3</text><text x=\"390\" y=\"267\" text-anchor=\"middle\" alignment-baseline=\"middle\" font-size=\"14\">3</text><text x=\"10\" y=\"222\" text-anchor=\"middle\" alignment-baseline=\"middle\" font-size=\"14\">4</text><text x=\"390\" y=\"222\" text-anchor=\"middle\" alignment-baseline=\"middle\" font-size=\"14\">4</text><text x=\"10\" y=\"177\" text-anchor=\"middle\" alignment-baseline=\"middle\" font-size=\"14\">5</text><text x=\"390\" y=\"177\" text-anchor=\"middle\" alignment-baseline=\"middle\" font-size=\"14\">5</text><text x=\"10\" y=\"132\" text-anchor=\"middle\" alignment-baseline=\"middle\" font-size=\"14\">6</text><text x=\"390\" y=\"132\" text-anchor=\"middle\" alignment-baseline=\"middle\" font-size=\"14\">6</text><text x=\"10\" y=\"87\" text-anchor=\"middle\" alignment-baseline=\"middle\" font-size=\"14\">7</text><text x=\"390\" y=\"87\" text-anchor=\"middle\" alignment-baseline=\"middle\" font-size=\"14\">7</text><text x=\"10\" y=\"42\" text-anchor=\"middle\" alignment-baseline=\"middle\" font-size=\"14\">8</text><text x=\"390\" y=\"42\" text-anchor=\"middle\" alignment-baseline=\"middle\" font-size=\"14\">8</text></svg>"
      ],
      "text/plain": [
       "<IPython.core.display.HTML object>"
      ]
     },
     "metadata": {},
     "output_type": "display_data"
    },
    {
     "name": "stdout",
     "output_type": "stream",
     "text": [
      "draw: claim\n"
     ]
    },
    {
     "data": {
      "text/plain": [
       "(None, 'draw: claim', Board('7k/8/8/1K6/8/8/2R5/8 w - - 21 142'))"
      ]
     },
     "execution_count": 23,
     "metadata": {},
     "output_type": "execute_result"
    }
   ],
   "source": [
    "play_game(random_player, random_player)"
   ]
  },
  {
   "cell_type": "markdown",
   "metadata": {},
   "source": [
    "Many times, that will end in a draw."
   ]
  },
  {
   "cell_type": "markdown",
   "metadata": {},
   "source": [
    "## 1.6 Allowing a Human Player"
   ]
  },
  {
   "cell_type": "markdown",
   "metadata": {},
   "source": [
    "Do you want to play a game? Here is a way to play:"
   ]
  },
  {
   "cell_type": "code",
   "execution_count": null,
   "metadata": {
    "collapsed": false
   },
   "outputs": [],
   "source": [
    "def human_player(board):\n",
    "    display(board)\n",
    "    uci = get_move(\"%s's move [q to quit]> \" % who(board.turn))\n",
    "    legal_uci_moves = [move.uci() for move in board.legal_moves]\n",
    "    while uci not in legal_uci_moves:\n",
    "        print(\"Legal moves: \" + (\",\".join(sorted(legal_uci_moves))))\n",
    "        uci = get_move(\"%s's move[q to quit]> \" % who(board.turn))\n",
    "    return uci"
   ]
  },
  {
   "cell_type": "markdown",
   "metadata": {},
   "source": [
    "And a helper function to handle the input:"
   ]
  },
  {
   "cell_type": "code",
   "execution_count": null,
   "metadata": {
    "collapsed": true
   },
   "outputs": [],
   "source": [
    "def get_move(prompt):\n",
    "    uci = input(prompt)\n",
    "    if uci and uci[0] == \"q\":\n",
    "        raise KeyboardInterrupt()\n",
    "    try:\n",
    "        chess.Move.from_uci(uci)\n",
    "    except:\n",
    "        uci = None\n",
    "    return uci"
   ]
  },
  {
   "cell_type": "markdown",
   "metadata": {},
   "source": [
    "Note that you must enter your move in UCI, such as \"a2a4\", meaning moving the piece at a2 to location a4.\n",
    "\n",
    "Try you hand at playing chess against the random_player. It is not as easy as it sounds. Did you win? How many turns did it take?"
   ]
  },
  {
   "cell_type": "markdown",
   "metadata": {},
   "source": [
    "## 1.7 Analysis"
   ]
  },
  {
   "cell_type": "markdown",
   "metadata": {},
   "source": [
    "If a random_player plays a random_player many times, how many times would you expect white to win? Black to win? To end in a draw?\n",
    "\n",
    "Let's try it:"
   ]
  },
  {
   "cell_type": "code",
   "execution_count": null,
   "metadata": {
    "collapsed": false,
    "scrolled": false
   },
   "outputs": [],
   "source": [
    "counts = {None: 0, True: 0, False: 0}\n",
    "for i in range(10):\n",
    "    result, msg, board = play_game(random_player, random_player, visual=None)\n",
    "    counts[result] += 1\n",
    "    print(counts)\n",
    "counts"
   ]
  },
  {
   "cell_type": "markdown",
   "metadata": {},
   "source": [
    "## 1.8 Static Analysis/Board Evaluation"
   ]
  },
  {
   "cell_type": "markdown",
   "metadata": {},
   "source": [
    "The next sample player takes each possible move, applies it to a temporary board and state, and then goes through the board, place by place, in order to compute an evaluation score for each resulting state. The moves are sorted by this score, and the best move is then returned:"
   ]
  },
  {
   "cell_type": "code",
   "execution_count": null,
   "metadata": {
    "collapsed": true
   },
   "outputs": [],
   "source": [
    "def player1(board):\n",
    "    moves = list(board.legal_moves)\n",
    "    for move in moves:\n",
    "        newboard = board.copy()\n",
    "        # go through board and return a score\n",
    "        move.score = staticAnalysis(newboard, move, board.turn)\n",
    "    moves.sort(key=lambda move: move.score, reverse=True) # sort on score\n",
    "    return moves[0].uci()"
   ]
  },
  {
   "cell_type": "markdown",
   "metadata": {},
   "source": [
    "The actual score is computed by the staticAnalysis function which is designed to evaluate the resulting board after each hypothesized move. To come up with a score for each static snapshot of a board, it will be necessary to know how many of each piece is left, and where they are. You can use the `board.pieces()` method for this:"
   ]
  },
  {
   "cell_type": "code",
   "execution_count": 24,
   "metadata": {
    "collapsed": false
   },
   "outputs": [
    {
     "data": {
      "image/svg+xml": [
       "<svg xmlns=\"http://www.w3.org/2000/svg\" version=\"1.1\" width=\"400\" height=\"400\"><style>.square.light {\n",
       "  fill: #ffce9e;\n",
       "}\n",
       ".square.dark {\n",
       "  fill: #d18b47;\n",
       "}\n",
       "</style><defs><g id=\"xx\" style=\"fill:none; stroke:#000000; stroke-width:2; stroke-opacity:1; stroke-linecap:round;stroke-linejoin:round; stroke-miterlimit:4; stroke-dasharray:none;\"><path d=\"M 30,30 L 15,15\" /><path d=\"M 30,15 L 15,30\" /></g></defs><rect x=\"20\" y=\"335\" class=\"square dark a1\" width=\"45\" height=\"45\" style=\"stroke: none;\" /><use xlink:href=\"#xx\" x=\"20\" y=\"335\" /><rect x=\"65\" y=\"335\" class=\"square light b1\" width=\"45\" height=\"45\" style=\"stroke: none;\" /><rect x=\"110\" y=\"335\" class=\"square dark c1\" width=\"45\" height=\"45\" style=\"stroke: none;\" /><rect x=\"155\" y=\"335\" class=\"square light d1\" width=\"45\" height=\"45\" style=\"stroke: none;\" /><rect x=\"200\" y=\"335\" class=\"square dark e1\" width=\"45\" height=\"45\" style=\"stroke: none;\" /><rect x=\"245\" y=\"335\" class=\"square light f1\" width=\"45\" height=\"45\" style=\"stroke: none;\" /><rect x=\"290\" y=\"335\" class=\"square dark g1\" width=\"45\" height=\"45\" style=\"stroke: none;\" /><rect x=\"335\" y=\"335\" class=\"square light h1\" width=\"45\" height=\"45\" style=\"stroke: none;\" /><use xlink:href=\"#xx\" x=\"335\" y=\"335\" /><rect x=\"20\" y=\"290\" class=\"square light a2\" width=\"45\" height=\"45\" style=\"stroke: none;\" /><rect x=\"65\" y=\"290\" class=\"square dark b2\" width=\"45\" height=\"45\" style=\"stroke: none;\" /><rect x=\"110\" y=\"290\" class=\"square light c2\" width=\"45\" height=\"45\" style=\"stroke: none;\" /><rect x=\"155\" y=\"290\" class=\"square dark d2\" width=\"45\" height=\"45\" style=\"stroke: none;\" /><rect x=\"200\" y=\"290\" class=\"square light e2\" width=\"45\" height=\"45\" style=\"stroke: none;\" /><rect x=\"245\" y=\"290\" class=\"square dark f2\" width=\"45\" height=\"45\" style=\"stroke: none;\" /><rect x=\"290\" y=\"290\" class=\"square light g2\" width=\"45\" height=\"45\" style=\"stroke: none;\" /><rect x=\"335\" y=\"290\" class=\"square dark h2\" width=\"45\" height=\"45\" style=\"stroke: none;\" /><rect x=\"20\" y=\"245\" class=\"square dark a3\" width=\"45\" height=\"45\" style=\"stroke: none;\" /><rect x=\"65\" y=\"245\" class=\"square light b3\" width=\"45\" height=\"45\" style=\"stroke: none;\" /><rect x=\"110\" y=\"245\" class=\"square dark c3\" width=\"45\" height=\"45\" style=\"stroke: none;\" /><rect x=\"155\" y=\"245\" class=\"square light d3\" width=\"45\" height=\"45\" style=\"stroke: none;\" /><rect x=\"200\" y=\"245\" class=\"square dark e3\" width=\"45\" height=\"45\" style=\"stroke: none;\" /><rect x=\"245\" y=\"245\" class=\"square light f3\" width=\"45\" height=\"45\" style=\"stroke: none;\" /><rect x=\"290\" y=\"245\" class=\"square dark g3\" width=\"45\" height=\"45\" style=\"stroke: none;\" /><rect x=\"335\" y=\"245\" class=\"square light h3\" width=\"45\" height=\"45\" style=\"stroke: none;\" /><rect x=\"20\" y=\"200\" class=\"square light a4\" width=\"45\" height=\"45\" style=\"stroke: none;\" /><rect x=\"65\" y=\"200\" class=\"square dark b4\" width=\"45\" height=\"45\" style=\"stroke: none;\" /><rect x=\"110\" y=\"200\" class=\"square light c4\" width=\"45\" height=\"45\" style=\"stroke: none;\" /><rect x=\"155\" y=\"200\" class=\"square dark d4\" width=\"45\" height=\"45\" style=\"stroke: none;\" /><rect x=\"200\" y=\"200\" class=\"square light e4\" width=\"45\" height=\"45\" style=\"stroke: none;\" /><rect x=\"245\" y=\"200\" class=\"square dark f4\" width=\"45\" height=\"45\" style=\"stroke: none;\" /><rect x=\"290\" y=\"200\" class=\"square light g4\" width=\"45\" height=\"45\" style=\"stroke: none;\" /><rect x=\"335\" y=\"200\" class=\"square dark h4\" width=\"45\" height=\"45\" style=\"stroke: none;\" /><rect x=\"20\" y=\"155\" class=\"square dark a5\" width=\"45\" height=\"45\" style=\"stroke: none;\" /><rect x=\"65\" y=\"155\" class=\"square light b5\" width=\"45\" height=\"45\" style=\"stroke: none;\" /><rect x=\"110\" y=\"155\" class=\"square dark c5\" width=\"45\" height=\"45\" style=\"stroke: none;\" /><rect x=\"155\" y=\"155\" class=\"square light d5\" width=\"45\" height=\"45\" style=\"stroke: none;\" /><rect x=\"200\" y=\"155\" class=\"square dark e5\" width=\"45\" height=\"45\" style=\"stroke: none;\" /><rect x=\"245\" y=\"155\" class=\"square light f5\" width=\"45\" height=\"45\" style=\"stroke: none;\" /><rect x=\"290\" y=\"155\" class=\"square dark g5\" width=\"45\" height=\"45\" style=\"stroke: none;\" /><rect x=\"335\" y=\"155\" class=\"square light h5\" width=\"45\" height=\"45\" style=\"stroke: none;\" /><rect x=\"20\" y=\"110\" class=\"square light a6\" width=\"45\" height=\"45\" style=\"stroke: none;\" /><rect x=\"65\" y=\"110\" class=\"square dark b6\" width=\"45\" height=\"45\" style=\"stroke: none;\" /><rect x=\"110\" y=\"110\" class=\"square light c6\" width=\"45\" height=\"45\" style=\"stroke: none;\" /><rect x=\"155\" y=\"110\" class=\"square dark d6\" width=\"45\" height=\"45\" style=\"stroke: none;\" /><rect x=\"200\" y=\"110\" class=\"square light e6\" width=\"45\" height=\"45\" style=\"stroke: none;\" /><rect x=\"245\" y=\"110\" class=\"square dark f6\" width=\"45\" height=\"45\" style=\"stroke: none;\" /><rect x=\"290\" y=\"110\" class=\"square light g6\" width=\"45\" height=\"45\" style=\"stroke: none;\" /><rect x=\"335\" y=\"110\" class=\"square dark h6\" width=\"45\" height=\"45\" style=\"stroke: none;\" /><rect x=\"20\" y=\"65\" class=\"square dark a7\" width=\"45\" height=\"45\" style=\"stroke: none;\" /><rect x=\"65\" y=\"65\" class=\"square light b7\" width=\"45\" height=\"45\" style=\"stroke: none;\" /><rect x=\"110\" y=\"65\" class=\"square dark c7\" width=\"45\" height=\"45\" style=\"stroke: none;\" /><rect x=\"155\" y=\"65\" class=\"square light d7\" width=\"45\" height=\"45\" style=\"stroke: none;\" /><rect x=\"200\" y=\"65\" class=\"square dark e7\" width=\"45\" height=\"45\" style=\"stroke: none;\" /><rect x=\"245\" y=\"65\" class=\"square light f7\" width=\"45\" height=\"45\" style=\"stroke: none;\" /><rect x=\"290\" y=\"65\" class=\"square dark g7\" width=\"45\" height=\"45\" style=\"stroke: none;\" /><rect x=\"335\" y=\"65\" class=\"square light h7\" width=\"45\" height=\"45\" style=\"stroke: none;\" /><rect x=\"20\" y=\"20\" class=\"square light a8\" width=\"45\" height=\"45\" style=\"stroke: none;\" /><rect x=\"65\" y=\"20\" class=\"square dark b8\" width=\"45\" height=\"45\" style=\"stroke: none;\" /><rect x=\"110\" y=\"20\" class=\"square light c8\" width=\"45\" height=\"45\" style=\"stroke: none;\" /><rect x=\"155\" y=\"20\" class=\"square dark d8\" width=\"45\" height=\"45\" style=\"stroke: none;\" /><rect x=\"200\" y=\"20\" class=\"square light e8\" width=\"45\" height=\"45\" style=\"stroke: none;\" /><rect x=\"245\" y=\"20\" class=\"square dark f8\" width=\"45\" height=\"45\" style=\"stroke: none;\" /><rect x=\"290\" y=\"20\" class=\"square light g8\" width=\"45\" height=\"45\" style=\"stroke: none;\" /><rect x=\"335\" y=\"20\" class=\"square dark h8\" width=\"45\" height=\"45\" style=\"stroke: none;\" /><text x=\"42\" y=\"10\" text-anchor=\"middle\" alignment-baseline=\"middle\" font-size=\"14\">a</text><text x=\"42\" y=\"390\" text-anchor=\"middle\" alignment-baseline=\"middle\" font-size=\"14\">a</text><text x=\"87\" y=\"10\" text-anchor=\"middle\" alignment-baseline=\"middle\" font-size=\"14\">b</text><text x=\"87\" y=\"390\" text-anchor=\"middle\" alignment-baseline=\"middle\" font-size=\"14\">b</text><text x=\"132\" y=\"10\" text-anchor=\"middle\" alignment-baseline=\"middle\" font-size=\"14\">c</text><text x=\"132\" y=\"390\" text-anchor=\"middle\" alignment-baseline=\"middle\" font-size=\"14\">c</text><text x=\"177\" y=\"10\" text-anchor=\"middle\" alignment-baseline=\"middle\" font-size=\"14\">d</text><text x=\"177\" y=\"390\" text-anchor=\"middle\" alignment-baseline=\"middle\" font-size=\"14\">d</text><text x=\"222\" y=\"10\" text-anchor=\"middle\" alignment-baseline=\"middle\" font-size=\"14\">e</text><text x=\"222\" y=\"390\" text-anchor=\"middle\" alignment-baseline=\"middle\" font-size=\"14\">e</text><text x=\"267\" y=\"10\" text-anchor=\"middle\" alignment-baseline=\"middle\" font-size=\"14\">f</text><text x=\"267\" y=\"390\" text-anchor=\"middle\" alignment-baseline=\"middle\" font-size=\"14\">f</text><text x=\"312\" y=\"10\" text-anchor=\"middle\" alignment-baseline=\"middle\" font-size=\"14\">g</text><text x=\"312\" y=\"390\" text-anchor=\"middle\" alignment-baseline=\"middle\" font-size=\"14\">g</text><text x=\"357\" y=\"10\" text-anchor=\"middle\" alignment-baseline=\"middle\" font-size=\"14\">h</text><text x=\"357\" y=\"390\" text-anchor=\"middle\" alignment-baseline=\"middle\" font-size=\"14\">h</text><text x=\"10\" y=\"357\" text-anchor=\"middle\" alignment-baseline=\"middle\" font-size=\"14\">1</text><text x=\"390\" y=\"357\" text-anchor=\"middle\" alignment-baseline=\"middle\" font-size=\"14\">1</text><text x=\"10\" y=\"312\" text-anchor=\"middle\" alignment-baseline=\"middle\" font-size=\"14\">2</text><text x=\"390\" y=\"312\" text-anchor=\"middle\" alignment-baseline=\"middle\" font-size=\"14\">2</text><text x=\"10\" y=\"267\" text-anchor=\"middle\" alignment-baseline=\"middle\" font-size=\"14\">3</text><text x=\"390\" y=\"267\" text-anchor=\"middle\" alignment-baseline=\"middle\" font-size=\"14\">3</text><text x=\"10\" y=\"222\" text-anchor=\"middle\" alignment-baseline=\"middle\" font-size=\"14\">4</text><text x=\"390\" y=\"222\" text-anchor=\"middle\" alignment-baseline=\"middle\" font-size=\"14\">4</text><text x=\"10\" y=\"177\" text-anchor=\"middle\" alignment-baseline=\"middle\" font-size=\"14\">5</text><text x=\"390\" y=\"177\" text-anchor=\"middle\" alignment-baseline=\"middle\" font-size=\"14\">5</text><text x=\"10\" y=\"132\" text-anchor=\"middle\" alignment-baseline=\"middle\" font-size=\"14\">6</text><text x=\"390\" y=\"132\" text-anchor=\"middle\" alignment-baseline=\"middle\" font-size=\"14\">6</text><text x=\"10\" y=\"87\" text-anchor=\"middle\" alignment-baseline=\"middle\" font-size=\"14\">7</text><text x=\"390\" y=\"87\" text-anchor=\"middle\" alignment-baseline=\"middle\" font-size=\"14\">7</text><text x=\"10\" y=\"42\" text-anchor=\"middle\" alignment-baseline=\"middle\" font-size=\"14\">8</text><text x=\"390\" y=\"42\" text-anchor=\"middle\" alignment-baseline=\"middle\" font-size=\"14\">8</text></svg>"
      ],
      "text/plain": [
       "SquareSet(0b10000001)"
      ]
     },
     "execution_count": 24,
     "metadata": {},
     "output_type": "execute_result"
    }
   ],
   "source": [
    "board = chess.Board()\n",
    "\n",
    "board.pieces(chess.ROOK, True)"
   ]
  },
  {
   "cell_type": "markdown",
   "metadata": {},
   "source": [
    "If you look at the output as a list, you'll see the 1-D representation of where those pieces are on the game board:"
   ]
  },
  {
   "cell_type": "code",
   "execution_count": 25,
   "metadata": {
    "collapsed": false
   },
   "outputs": [
    {
     "data": {
      "text/plain": [
       "[0, 7]"
      ]
     },
     "execution_count": 25,
     "metadata": {},
     "output_type": "execute_result"
    }
   ],
   "source": [
    "list(board.pieces(chess.ROOK, True))"
   ]
  },
  {
   "cell_type": "code",
   "execution_count": 26,
   "metadata": {
    "collapsed": false
   },
   "outputs": [
    {
     "data": {
      "text/plain": [
       "2"
      ]
     },
     "execution_count": 26,
     "metadata": {},
     "output_type": "execute_result"
    }
   ],
   "source": [
    "len(board.pieces(chess.ROOK, True))"
   ]
  },
  {
   "cell_type": "markdown",
   "metadata": {},
   "source": [
    "There are 2 white rooks.\n",
    "\n",
    "Now, putting that into a function, checking for each type of piece:"
   ]
  },
  {
   "cell_type": "code",
   "execution_count": null,
   "metadata": {
    "collapsed": false
   },
   "outputs": [],
   "source": [
    "def staticAnalysis(board, move, my_color):\n",
    "    score = 0\n",
    "    ## Check some things about this move:\n",
    "    # score += 10 if board.is_capture(move) else 0\n",
    "    # To actually make the move:\n",
    "    board.push(move)\n",
    "    # Now check some other things:\n",
    "    for (piece, value) in [(chess.PAWN, 1), \n",
    "                           (chess.BISHOP, 4), \n",
    "                           (chess.KING, 0), \n",
    "                           (chess.QUEEN, 10), \n",
    "                           (chess.KNIGHT, 5),\n",
    "                           (chess.ROOK, 3)]:\n",
    "        score += len(board.pieces(piece, my_color)) * value\n",
    "        score -= len(board.pieces(piece, not my_color)) * value\n",
    "        # can also check things about the pieces position here\n",
    "    return score"
   ]
  },
  {
   "cell_type": "code",
   "execution_count": null,
   "metadata": {
    "collapsed": false
   },
   "outputs": [],
   "source": [
    "play_game(player1, random_player)"
   ]
  },
  {
   "cell_type": "markdown",
   "metadata": {},
   "source": [
    "**NOTE**: The string representation for the board is in [Forsyth-Edwards Notation](https://en.wikipedia.org/wiki/Forsyth%E2%80%93Edwards_Notation), or FEN for short. The last number (6th column) is the \"full-move count\". If the full-move count is 36, then there have been 35 * 2 full-moves, plus 1 if \"b\" is in second columns, for 71 moves.\n",
    "\n",
    "That didn't play so well! Why not?\n",
    "\n",
    "The following is one way around the problem. What does it do differently?"
   ]
  },
  {
   "cell_type": "code",
   "execution_count": null,
   "metadata": {
    "collapsed": true
   },
   "outputs": [],
   "source": [
    "def staticAnalysis(board, move, my_color):\n",
    "    score = random.random()\n",
    "    ## Check some things about this move:\n",
    "    # score += 10 if board.is_capture(move) else 0\n",
    "    # To actually make the move:\n",
    "    board.push(move)\n",
    "    # Now check some other things:\n",
    "    for (piece, value) in [(chess.PAWN, 1), \n",
    "                           (chess.BISHOP, 4), \n",
    "                           (chess.KING, 0), \n",
    "                           (chess.QUEEN, 10), \n",
    "                           (chess.KNIGHT, 5),\n",
    "                           (chess.ROOK, 3)]:\n",
    "        score += len(board.pieces(piece, my_color)) * value\n",
    "        score -= len(board.pieces(piece, not my_color)) * value\n",
    "        # can also check things about the pieces position here\n",
    "    return score"
   ]
  },
  {
   "cell_type": "code",
   "execution_count": null,
   "metadata": {
    "collapsed": false
   },
   "outputs": [],
   "source": [
    "play_game(player1, random_player)"
   ]
  },
  {
   "cell_type": "markdown",
   "metadata": {},
   "source": [
    "Better! But it still is not very aggressive. What could we add to make it attack?"
   ]
  },
  {
   "cell_type": "code",
   "execution_count": null,
   "metadata": {
    "collapsed": true
   },
   "outputs": [],
   "source": [
    "def staticAnalysis(board, move, my_color):\n",
    "    score = random.random()\n",
    "    ## Check some things about this move:\n",
    "    # score += 10 if board.is_capture(move) else 0\n",
    "    # To actually make the move:\n",
    "    board.push(move)\n",
    "    # Now check some other things:\n",
    "    for (piece, value) in [(chess.PAWN, 1), \n",
    "                           (chess.BISHOP, 4), \n",
    "                           (chess.KING, 0), \n",
    "                           (chess.QUEEN, 10), \n",
    "                           (chess.KNIGHT, 5),\n",
    "                           (chess.ROOK, 3)]:\n",
    "        score += len(board.pieces(piece, my_color)) * value\n",
    "        score -= len(board.pieces(piece, not my_color)) * value\n",
    "        # can also check things about the pieces position here\n",
    "    # Check global things about the board\n",
    "    score += 100 if board.is_checkmate() else 0\n",
    "    return score"
   ]
  },
  {
   "cell_type": "code",
   "execution_count": null,
   "metadata": {
    "collapsed": false
   },
   "outputs": [],
   "source": [
    "play_game(player1, random_player)"
   ]
  },
  {
   "cell_type": "markdown",
   "metadata": {},
   "source": [
    "Not bad!\n",
    "\n",
    "This staticAnalysis function makes a much better player than either of the random players, but it still has major issues. How can you improve this static evaluation function?"
   ]
  },
  {
   "cell_type": "markdown",
   "metadata": {},
   "source": [
    "## 1.9 Suggestions"
   ]
  },
  {
   "cell_type": "markdown",
   "metadata": {},
   "source": [
    "Pawns get promoted when they get to the back row. Encourage them to get to the back row (eg, the closer they are to the opposite side, the better).\n",
    "\n",
    "* It is good to threaten opponent pieces.\n",
    "* It is good that your opponent's King has no valid moves.\n",
    "\n",
    "Static analysis on the next move's state can only do so much good. It would be better if you could \"look ahead\" further and see the results of what your opponent could do, given what your proposed move did. And then see what you could do, then what they would do, etc. This is how real chess programs work. There are many algorithms for finding the best move by looking many moves ahead, such as minimax and alpha-beta pruning. You'll explore these ideas fully in Artificial Intelligence.\n",
    "\n",
    "Your board evaluation function could change during the game. For example, you might use one evaluation function at the beginning, one in the middle, and another at the end. How can you tell where you are in a game?\n",
    "\n",
    "There is a nice article on Chess Strategy at wikipedia: http://en.wikipedia.org/wiki/Chess_strategy"
   ]
  }
 ],
 "metadata": {
  "kernelspec": {
   "display_name": "Python 3",
   "language": "python",
   "name": "python3"
  },
  "language_info": {
   "codemirror_mode": {
    "name": "ipython",
    "version": 3
   },
   "file_extension": ".py",
   "mimetype": "text/x-python",
   "name": "python",
   "nbconvert_exporter": "python",
   "pygments_lexer": "ipython3",
   "version": "3.5.2"
  }
 },
 "nbformat": 4,
 "nbformat_minor": 1
}
